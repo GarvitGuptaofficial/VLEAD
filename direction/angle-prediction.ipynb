{
 "cells": [
  {
   "cell_type": "code",
   "execution_count": 1,
   "id": "cb313c30",
   "metadata": {
    "execution": {
     "iopub.execute_input": "2025-05-04T20:31:48.994935Z",
     "iopub.status.busy": "2025-05-04T20:31:48.994720Z",
     "iopub.status.idle": "2025-05-04T20:32:01.027192Z",
     "shell.execute_reply": "2025-05-04T20:32:01.026613Z"
    },
    "papermill": {
     "duration": 12.037347,
     "end_time": "2025-05-04T20:32:01.028414",
     "exception": false,
     "start_time": "2025-05-04T20:31:48.991067",
     "status": "completed"
    },
    "tags": []
   },
   "outputs": [],
   "source": [
    "import os\n",
    "import math\n",
    "import numpy as np\n",
    "import pandas as pd\n",
    "import torch\n",
    "import torch.nn as nn\n",
    "import torch.nn.functional as F\n",
    "from torch.utils.data import Dataset, DataLoader\n",
    "from torch.optim import AdamW\n",
    "from torch.optim.lr_scheduler import CosineAnnealingLR\n",
    "from torchvision import transforms\n",
    "from PIL import Image\n",
    "from tqdm import tqdm\n",
    "import matplotlib.pyplot as plt\n",
    "from pathlib import Path\n",
    "from torchvision.transforms import RandAugment"
   ]
  },
  {
   "cell_type": "code",
   "execution_count": 2,
   "id": "7a4873b9",
   "metadata": {
    "execution": {
     "iopub.execute_input": "2025-05-04T20:32:01.034413Z",
     "iopub.status.busy": "2025-05-04T20:32:01.034136Z",
     "iopub.status.idle": "2025-05-04T20:32:01.049302Z",
     "shell.execute_reply": "2025-05-04T20:32:01.048797Z"
    },
    "papermill": {
     "duration": 0.019214,
     "end_time": "2025-05-04T20:32:01.050308",
     "exception": false,
     "start_time": "2025-05-04T20:32:01.031094",
     "status": "completed"
    },
    "tags": []
   },
   "outputs": [],
   "source": [
    "# Angular Error calculation function\n",
    "def calc_angular_error(pred_vecs, true_vecs):\n",
    "    # Calculate the dot product between predicted and true vectors\n",
    "    dot_prod = torch.sum(pred_vecs * true_vecs, dim=1).clamp(-1, 1)\n",
    "    \n",
    "    # Calculate the angle in radians between vectors using arccos\n",
    "    rads = torch.acos(dot_prod)\n",
    "    \n",
    "    # Convert to degrees\n",
    "    degs = rads * 180 / math.pi\n",
    "    \n",
    "    # Return mean over the batch\n",
    "    return degs.mean().item()\n",
    "\n",
    "# Custom DropPath (Stochastic Depth)\n",
    "class StochasticDepth(nn.Module):\n",
    "    def __init__(self, drop_prob=None):\n",
    "        super(StochasticDepth, self).__init__()\n",
    "        self.drop_prob = drop_prob\n",
    "\n",
    "    def forward(self, x):\n",
    "        if self.drop_prob == 0. or not self.training:\n",
    "            return x\n",
    "        keep_prob = 1 - self.drop_prob\n",
    "        shape = (x.shape[0],) + (1,) * (x.ndim - 1)\n",
    "        random_tensor = keep_prob + torch.rand(shape, dtype=x.dtype, device=x.device)\n",
    "        random_tensor.floor_()  # binarize\n",
    "        output = x.div(keep_prob) * random_tensor\n",
    "        return output\n",
    "\n",
    "# Model Architecture\n",
    "class TerrainAngleNet(nn.Module):\n",
    "    def __init__(self, dropout_rate=0.1):\n",
    "        super(TerrainAngleNet, self).__init__()\n",
    "        # Load DINOv2 ViT-B/14 as backbone\n",
    "        self.feature_extractor = torch.hub.load('facebookresearch/dinov2', 'dinov2_vitb14', pretrained=True)\n",
    "\n",
    "        # Get the total number of blocks in the model\n",
    "        num_blocks = len(self.feature_extractor.blocks)\n",
    "\n",
    "        # Freeze patch embedding\n",
    "        for param in self.feature_extractor.patch_embed.parameters():\n",
    "            param.requires_grad = False\n",
    "\n",
    "        # Freeze the first half of transformer blocks\n",
    "        for i in range(num_blocks // 2):\n",
    "            for param in self.feature_extractor.blocks[i].parameters():\n",
    "                param.requires_grad = False\n",
    "\n",
    "        # Apply stochastic depth to remaining blocks\n",
    "        try:\n",
    "            for i in range(num_blocks // 2, num_blocks):\n",
    "                block = self.feature_extractor.blocks[i]\n",
    "                # Apply drop path if block has attention\n",
    "                if hasattr(block, 'attn') and hasattr(block.attn, 'drop_path'):\n",
    "                    block.attn.drop_path = StochasticDepth(dropout_rate)\n",
    "                # Apply drop path if block has MLP\n",
    "                if hasattr(block, 'mlp') and hasattr(block.mlp, 'drop_path'):\n",
    "                    block.mlp.drop_path = StochasticDepth(dropout_rate)\n",
    "        except Exception as e:\n",
    "            print(f\"Warning: Could not apply StochasticDepth to DINOv2 blocks: {e}\")\n",
    "            print(\"Continuing without StochasticDepth. Will rely on dropout in the prediction head.\")\n",
    "\n",
    "        # Get the dimension of the backbone output\n",
    "        backbone_dim = self.feature_extractor.norm.weight.shape[0]\n",
    "\n",
    "        # Prediction head\n",
    "        self.head = nn.Sequential(\n",
    "            nn.Dropout(0.1),\n",
    "            nn.Linear(backbone_dim, backbone_dim // 2),\n",
    "            nn.ReLU(),\n",
    "            nn.Dropout(0.1),\n",
    "            nn.Linear(backbone_dim // 2, 2)\n",
    "        )\n",
    "\n",
    "    def forward(self, x):\n",
    "        features = self.feature_extractor(x)\n",
    "        angle_vector = self.head(features)\n",
    "\n",
    "        # Normalize to unit circle\n",
    "        angle_vector = F.normalize(angle_vector, p=2, dim=1)\n",
    "        return angle_vector\n",
    "\n",
    "# Data Augmentation Functions - Combined in one place\n",
    "def get_transforms():\n",
    "    train_transform = transforms.Compose([\n",
    "        transforms.RandomResizedCrop(224, scale=(0.5, 1.0)),\n",
    "        RandAugment(num_ops=2, magnitude=9),\n",
    "        transforms.ColorJitter(brightness=0.2, contrast=0.2, saturation=0.2, hue=0.1),\n",
    "        transforms.ToTensor(),\n",
    "        transforms.Normalize(mean=[0.485, 0.456, 0.406], std=[0.229, 0.224, 0.225])\n",
    "    ])\n",
    "    \n",
    "    val_transform = transforms.Compose([\n",
    "        transforms.Resize(256),\n",
    "        transforms.CenterCrop(224),\n",
    "        transforms.ToTensor(),\n",
    "        transforms.Normalize(mean=[0.485, 0.456, 0.406], std=[0.229, 0.224, 0.225])\n",
    "    ])\n",
    "    \n",
    "    return train_transform, val_transform\n",
    "\n",
    "# Custom Dataset\n",
    "class GeoOrientationDataset(Dataset):\n",
    "    def __init__(self, csv_file, img_dir, transform=None):\n",
    "        self.data = pd.read_csv(csv_file)\n",
    "        self.img_dir = img_dir\n",
    "        self.transform = transform\n",
    "\n",
    "        # Remove outliers\n",
    "        self._clean_outliers()\n",
    "\n",
    "    def _clean_outliers(self):\n",
    "        self.data = self.data[(self.data['angle'] >= 0) & (self.data['angle'] <= 360)]\n",
    "    \n",
    "        original_size = len(self.data)\n",
    "    \n",
    "        # Group by Region_ID for IQR-based outlier removal\n",
    "        for region_id in self.data['Region_ID'].unique():\n",
    "            region_data = self.data[self.data['Region_ID'] == region_id]\n",
    "    \n",
    "            # Calculate IQR for angle\n",
    "            Q1 = region_data['angle'].quantile(0.25)\n",
    "            Q3 = region_data['angle'].quantile(0.75)\n",
    "            IQR = Q3 - Q1\n",
    "    \n",
    "            # Define bounds\n",
    "            lower_bound = Q1 - 1.5 * IQR\n",
    "            upper_bound = Q3 + 1.5 * IQR\n",
    "    \n",
    "            # Filter outliers\n",
    "            outliers = region_data[(region_data['angle'] < lower_bound) |\n",
    "                                   (region_data['angle'] > upper_bound)].index\n",
    "    \n",
    "            # Remove outliers\n",
    "            self.data = self.data.drop(outliers)\n",
    "    \n",
    "        # Print the number of outliers removed\n",
    "        outliers_removed = original_size - len(self.data)\n",
    "        print(f\"Removed {outliers_removed} outliers from the dataset.\")\n",
    "\n",
    "\n",
    "    def __len__(self):\n",
    "        return len(self.data)\n",
    "\n",
    "    def __getitem__(self, idx):\n",
    "        img_name = os.path.join(self.img_dir, self.data.iloc[idx]['filename'])\n",
    "        image = Image.open(img_name).convert('RGB')\n",
    "\n",
    "        # Get angle and convert to radians\n",
    "        angle_degrees = self.data.iloc[idx]['angle']\n",
    "        angle_radians = math.radians(angle_degrees)\n",
    "\n",
    "        # Convert to normalized 2D vector (cos θ, sin θ)\n",
    "        angle_vector = torch.tensor([math.cos(angle_radians), math.sin(angle_radians)], dtype=torch.float)\n",
    "\n",
    "        if self.transform:\n",
    "            image = self.transform(image)\n",
    "\n",
    "        return image, angle_vector, angle_degrees  # Return original angle for evaluation"
   ]
  },
  {
   "cell_type": "code",
   "execution_count": 3,
   "id": "13a0da2c",
   "metadata": {
    "execution": {
     "iopub.execute_input": "2025-05-04T20:32:01.055474Z",
     "iopub.status.busy": "2025-05-04T20:32:01.055295Z",
     "iopub.status.idle": "2025-05-04T20:32:01.080525Z",
     "shell.execute_reply": "2025-05-04T20:32:01.080007Z"
    },
    "papermill": {
     "duration": 0.029013,
     "end_time": "2025-05-04T20:32:01.081444",
     "exception": false,
     "start_time": "2025-05-04T20:32:01.052431",
     "status": "completed"
    },
    "tags": []
   },
   "outputs": [],
   "source": [
    "class ModelTrainer:\n",
    "    def __init__(self, model, train_loader, val_loader, optimizer, scheduler, scaler, device):\n",
    "        self.model = model\n",
    "        self.train_loader = train_loader\n",
    "        self.val_loader = val_loader\n",
    "        self.optimizer = optimizer\n",
    "        self.scheduler = scheduler\n",
    "        self.scaler = scaler\n",
    "        self.device = device\n",
    "        self.history = {\n",
    "            'train_loss': [],\n",
    "            'train_error': [],\n",
    "            'val_loss': [],\n",
    "            'val_error': []\n",
    "        }\n",
    "        self.best_val_error = float('inf')\n",
    "        \n",
    "    def train_epoch(self, epoch, accumulation_steps=1):\n",
    "        self.model.train()\n",
    "        running_loss = 0.0\n",
    "        running_error = 0.0\n",
    "        \n",
    "        progress_bar = tqdm(self.train_loader, desc=f\"Epoch {epoch+1} [Train]\")\n",
    "        \n",
    "        # Reset gradients\n",
    "        self.optimizer.zero_grad()\n",
    "        \n",
    "        for i, (images, angle_vectors, angle_degrees) in enumerate(progress_bar):\n",
    "            images = images.to(self.device)\n",
    "            angle_vectors = angle_vectors.to(self.device)\n",
    "            \n",
    "            # Forward pass with mixed precision\n",
    "            with torch.cuda.amp.autocast():\n",
    "                outputs = self.model(images)\n",
    "                loss = F.mse_loss(outputs, angle_vectors)\n",
    "                # Normalize loss for gradient accumulation\n",
    "                loss = loss / accumulation_steps\n",
    "            \n",
    "            # Backward and accumulate gradients\n",
    "            self.scaler.scale(loss).backward()\n",
    "            \n",
    "            # Update weights every accumulation_steps batches\n",
    "            if (i + 1) % accumulation_steps == 0 or (i + 1) == len(self.train_loader):\n",
    "                # Gradient clipping\n",
    "                self.scaler.unscale_(self.optimizer)\n",
    "                torch.nn.utils.clip_grad_norm_(self.model.parameters(), max_norm=1.0)\n",
    "                \n",
    "                self.scaler.step(self.optimizer)\n",
    "                self.scaler.update()\n",
    "                self.optimizer.zero_grad()\n",
    "            \n",
    "            # Calculate metrics\n",
    "            error = calc_angular_error(outputs.detach(), angle_vectors)\n",
    "            \n",
    "            # Update statistics (use unscaled loss)\n",
    "            running_loss += loss.item() * accumulation_steps\n",
    "            running_error += error\n",
    "            \n",
    "            # Update progress bar\n",
    "            progress_bar.set_postfix({\n",
    "                'loss': f\"{running_loss/(i+1):.4f}\",\n",
    "                'error': f\"{running_error/(i+1):.2f}°\"\n",
    "            })\n",
    "        \n",
    "        # Calculate epoch metrics\n",
    "        epoch_loss = running_loss / len(self.train_loader)\n",
    "        epoch_error = running_error / len(self.train_loader)\n",
    "        \n",
    "        return epoch_loss, epoch_error\n",
    "    \n",
    "    def validate(self):\n",
    "        self.model.eval()\n",
    "        running_loss = 0.0\n",
    "        running_error = 0.0\n",
    "        \n",
    "        progress_bar = tqdm(self.val_loader, desc=\"Validation\")\n",
    "        \n",
    "        with torch.no_grad():\n",
    "            for i, (images, angle_vectors, angle_degrees) in enumerate(progress_bar):\n",
    "                images = images.to(self.device)\n",
    "                angle_vectors = angle_vectors.to(self.device)\n",
    "                \n",
    "                # Forward pass\n",
    "                outputs = self.model(images)\n",
    "                loss = F.mse_loss(outputs, angle_vectors)\n",
    "                \n",
    "                # Calculate metrics\n",
    "                error = calc_angular_error(outputs, angle_vectors)\n",
    "                \n",
    "                # Update statistics\n",
    "                running_loss += loss.item()\n",
    "                running_error += error\n",
    "                \n",
    "                # Update progress bar\n",
    "                progress_bar.set_postfix({\n",
    "                    'val_loss': f\"{running_loss/(i+1):.4f}\",\n",
    "                    'val_error': f\"{running_error/(i+1):.2f}°\"\n",
    "                })\n",
    "        \n",
    "        # Calculate epoch metrics\n",
    "        epoch_loss = running_loss / len(self.val_loader)\n",
    "        epoch_error = running_error / len(self.val_loader)\n",
    "        \n",
    "        return epoch_loss, epoch_error\n",
    "    \n",
    "    def train(self, num_epochs, checkpoint_dir, accumulation_steps=4):\n",
    "        for epoch in range(num_epochs):\n",
    "            # Train for one epoch\n",
    "            train_loss, train_error = self.train_epoch(epoch, accumulation_steps)\n",
    "            \n",
    "            # Validate\n",
    "            val_loss, val_error = self.validate()\n",
    "            \n",
    "            # Update scheduler\n",
    "            self.scheduler.step()\n",
    "            \n",
    "            # Update history\n",
    "            self.history['train_loss'].append(train_loss)\n",
    "            self.history['train_error'].append(train_error)\n",
    "            self.history['val_loss'].append(val_loss)\n",
    "            self.history['val_error'].append(val_error)\n",
    "            \n",
    "            # Print epoch summary\n",
    "            print(f\"\\nEpoch {epoch+1}/{num_epochs}\")\n",
    "            print(f\"Train Loss: {train_loss:.4f}, Train Error: {train_error:.2f}°\")\n",
    "            print(f\"Val Loss: {val_loss:.4f}, Val Error: {val_error:.2f}°\")\n",
    "            \n",
    "            # Save checkpoint if best model\n",
    "            if val_error < self.best_val_error:\n",
    "                self.best_val_error = val_error\n",
    "                torch.save({\n",
    "                    'epoch': epoch,\n",
    "                    'model_state_dict': self.model.state_dict(),\n",
    "                    'optimizer_state_dict': self.optimizer.state_dict(),\n",
    "                    'scheduler_state_dict': self.scheduler.state_dict(),\n",
    "                    'scaler_state_dict': self.scaler.state_dict(),\n",
    "                    'val_loss': val_loss,\n",
    "                    'val_error': val_error,\n",
    "                    'best_val_error': self.best_val_error\n",
    "                }, checkpoint_dir / \"best_model.pth\")\n",
    "                print(f\"Saved best model with Val Error: {val_error:.2f}°\")\n",
    "        \n",
    "        # Plot training history\n",
    "        self.plot_history(checkpoint_dir)\n",
    "        \n",
    "        print(f\"Training completed. Best validation Error: {self.best_val_error:.2f}°\")\n",
    "        \n",
    "        # Load best model for evaluation\n",
    "        best_checkpoint = torch.load(checkpoint_dir / \"best_model.pth\")\n",
    "        self.model.load_state_dict(best_checkpoint['model_state_dict'])\n",
    "        \n",
    "        # Final evaluation\n",
    "        final_val_loss, final_val_error = self.validate()\n",
    "        print(f\"Final Evaluation - Val Loss: {final_val_loss:.4f}, Val Error: {final_val_error:.2f}°\")\n",
    "        \n",
    "        return self.model\n",
    "    \n",
    "    def plot_history(self, checkpoint_dir):\n",
    "        plt.figure(figsize=(12, 5))\n",
    "        \n",
    "        # Plot loss\n",
    "        plt.subplot(1, 2, 1)\n",
    "        plt.plot(self.history['train_loss'], label='Train Loss')\n",
    "        plt.plot(self.history['val_loss'], label='Val Loss')\n",
    "        plt.xlabel('Epoch')\n",
    "        plt.ylabel('Loss')\n",
    "        plt.title('Training and Validation Loss')\n",
    "        plt.legend()\n",
    "        \n",
    "        # Plot Error\n",
    "        plt.subplot(1, 2, 2)\n",
    "        plt.plot(self.history['train_error'], label='Train Error')\n",
    "        plt.plot(self.history['val_error'], label='Val Error')\n",
    "        plt.xlabel('Epoch')\n",
    "        plt.ylabel('Error (degrees)')\n",
    "        plt.title('Training and Validation Error')\n",
    "        plt.legend()\n",
    "        \n",
    "        plt.tight_layout()\n",
    "        plt.savefig(os.path.join(checkpoint_dir, 'training_history.png'))\n",
    "        plt.show()\n",
    "\n",
    "# Test Evaluator Class\n",
    "class ModelEvaluator:\n",
    "    def __init__(self, model, test_loader, device, checkpoint_dir):\n",
    "        self.model = model\n",
    "        self.test_loader = test_loader\n",
    "        self.device = device\n",
    "        self.checkpoint_dir = checkpoint_dir\n",
    "        \n",
    "    def evaluate(self):\n",
    "        self.model.eval()\n",
    "        all_predictions = []\n",
    "        all_true_angles = []\n",
    "        \n",
    "        progress_bar = tqdm(self.test_loader, desc=\"Testing\")\n",
    "        \n",
    "        with torch.no_grad():\n",
    "            for i, (images, angle_vectors, angle_degrees) in enumerate(progress_bar):\n",
    "                images = images.to(self.device)\n",
    "                \n",
    "                # Forward pass\n",
    "                outputs = self.model(images)\n",
    "                \n",
    "                # Convert output vectors to angles\n",
    "                pred_angles = []\n",
    "                for output in outputs:\n",
    "                    # Convert normalized vector (cos θ, sin θ) to angle in degrees\n",
    "                    angle_rad = torch.atan2(output[1], output[0])\n",
    "                    angle_deg = angle_rad.item() * 180 / math.pi\n",
    "                    # Normalize to 0-360 range\n",
    "                    if angle_deg < 0:\n",
    "                        angle_deg += 360\n",
    "                    pred_angles.append(angle_deg)\n",
    "                \n",
    "                # Store predictions and true angles\n",
    "                all_predictions.extend(pred_angles)\n",
    "                all_true_angles.extend(angle_degrees.numpy())\n",
    "        \n",
    "        # Calculate angular differences\n",
    "        angular_diffs = []\n",
    "        for pred, true in zip(all_predictions, all_true_angles):\n",
    "            # Calculate shortest angular distance\n",
    "            diff = abs(pred - true)\n",
    "            if diff > 180:\n",
    "                diff = 360 - diff\n",
    "            angular_diffs.append(diff)\n",
    "        \n",
    "        # Calculate metrics\n",
    "        mean_diff = np.mean(angular_diffs)\n",
    "        median_diff = np.median(angular_diffs)\n",
    "        std_diff = np.std(angular_diffs)\n",
    "        \n",
    "        # Print results\n",
    "        print(\"\\nTest Results:\")\n",
    "        print(f\"Mean Angular Difference: {mean_diff:.2f}°\")\n",
    "        print(f\"Median Angular Difference: {median_diff:.2f}°\")\n",
    "        print(f\"Standard Deviation: {std_diff:.2f}°\")\n",
    "        \n",
    "        # Plot histogram of angular differences\n",
    "        self._plot_error_distribution(angular_diffs, mean_diff, median_diff)\n",
    "        \n",
    "        return mean_diff, median_diff, std_diff, all_predictions, all_true_angles\n",
    "    \n",
    "    def _plot_error_distribution(self, angular_diffs, mean_diff, median_diff):\n",
    "        plt.figure(figsize=(10, 6))\n",
    "        plt.hist(angular_diffs, bins=36, alpha=0.7)\n",
    "        plt.axvline(mean_diff, color='r', linestyle='dashed', linewidth=1, \n",
    "                    label=f'Mean: {mean_diff:.2f}°')\n",
    "        plt.axvline(median_diff, color='g', linestyle='dashed', linewidth=1,\n",
    "                    label=f'Median: {median_diff:.2f}°')\n",
    "        plt.xlabel('Angular Difference (degrees)')\n",
    "        plt.ylabel('Frequency')\n",
    "        plt.title('Distribution of Angular Prediction Errors')\n",
    "        plt.legend()\n",
    "        plt.grid(alpha=0.3)\n",
    "        plt.savefig(os.path.join(self.checkpoint_dir, 'angular_errors.png'))\n",
    "        plt.show()\n",
    "\n",
    "# Main execution function\n",
    "def run_training_pipeline(config=None):\n",
    "    # Default configuration\n",
    "    if config is None:\n",
    "        config = {\n",
    "            'batch_size': 32,\n",
    "            'num_epochs': 70,\n",
    "            'backbone_lr': 4e-6,\n",
    "            'head_lr': 4e-4,\n",
    "            'weight_decay': 1e-2,\n",
    "            'accumulation_steps': 4,\n",
    "            'dropout_rate': 0.2,\n",
    "            'train_img_dir': '/kaggle/input/images/images_train/images_train',\n",
    "            'train_csv_path': '/kaggle/input/labels/labels_train_updated.csv',\n",
    "            'val_img_dir': '/kaggle/input/images/images_val/images_val',\n",
    "            'val_csv_path': '/kaggle/input/labels/labels_val_updated.csv',\n",
    "            'checkpoint_dir': '/kaggle/working/'\n",
    "        }\n",
    "    \n",
    "    # Set up random seed for reproducibility\n",
    "    torch.manual_seed(42)\n",
    "    if torch.cuda.is_available():\n",
    "        torch.cuda.manual_seed_all(42)\n",
    "        device = torch.device(\"cuda\")\n",
    "    else:\n",
    "        device = torch.device(\"cpu\")\n",
    "    \n",
    "    # Create checkpoint directory\n",
    "    checkpoint_dir = Path(config['checkpoint_dir'])\n",
    "    checkpoint_dir.mkdir(exist_ok=True)\n",
    "    \n",
    "    # Get transforms\n",
    "    train_transform, val_transform = get_transforms()\n",
    "    \n",
    "    # Create datasets\n",
    "    train_dataset = GeoOrientationDataset(\n",
    "        csv_file=config['train_csv_path'],\n",
    "        img_dir=config['train_img_dir'],\n",
    "        transform=train_transform\n",
    "    )\n",
    "    \n",
    "    val_dataset = GeoOrientationDataset(\n",
    "        csv_file=config['val_csv_path'],\n",
    "        img_dir=config['val_img_dir'],\n",
    "        transform=val_transform\n",
    "    )\n",
    "    \n",
    "    # Create dataloaders\n",
    "    train_loader = DataLoader(\n",
    "        train_dataset,\n",
    "        batch_size=config['batch_size'],\n",
    "        shuffle=True,\n",
    "        num_workers=4,\n",
    "        pin_memory=True\n",
    "    )\n",
    "    \n",
    "    val_loader = DataLoader(\n",
    "        val_dataset,\n",
    "        batch_size=config['batch_size'],\n",
    "        shuffle=False,\n",
    "        num_workers=4,\n",
    "        pin_memory=True\n",
    "    )\n",
    "    \n",
    "    # Initialize model\n",
    "    model = TerrainAngleNet(dropout_rate=config['dropout_rate']).to(device)\n",
    "    \n",
    "    # Separate parameter groups for differential learning rates\n",
    "    backbone_params = []\n",
    "    head_params = []\n",
    "    \n",
    "    for name, param in model.named_parameters():\n",
    "        if param.requires_grad:\n",
    "            if \"feature_extractor\" in name:\n",
    "                backbone_params.append(param)\n",
    "            else:\n",
    "                head_params.append(param)\n",
    "    \n",
    "    # Create optimizer with parameter groups\n",
    "    optimizer = AdamW([\n",
    "        {'params': backbone_params, 'lr': config['backbone_lr']},\n",
    "        {'params': head_params, 'lr': config['head_lr']}\n",
    "    ], weight_decay=config['weight_decay'])\n",
    "    \n",
    "    # Learning rate scheduler\n",
    "    scheduler = CosineAnnealingLR(optimizer, T_max=config['num_epochs'], eta_min=1e-7)\n",
    "    \n",
    "    # Mixed precision training\n",
    "    scaler = torch.cuda.amp.GradScaler()\n",
    "    \n",
    "    # Create trainer\n",
    "    trainer = ModelTrainer(\n",
    "        model=model,\n",
    "        train_loader=train_loader,\n",
    "        val_loader=val_loader,\n",
    "        optimizer=optimizer,\n",
    "        scheduler=scheduler,\n",
    "        scaler=scaler,\n",
    "        device=device\n",
    "    )\n",
    "    \n",
    "    # Run training\n",
    "    trained_model = trainer.train(\n",
    "        num_epochs=config['num_epochs'],\n",
    "        checkpoint_dir=checkpoint_dir,\n",
    "        accumulation_steps=config['accumulation_steps']\n",
    "    )\n",
    "    \n",
    "    return trained_model, train_loader, val_loader, device, checkpoint_dir\n",
    "\n",
    "\n"
   ]
  },
  {
   "cell_type": "code",
   "execution_count": 4,
   "id": "d6bbd8dc",
   "metadata": {
    "execution": {
     "iopub.execute_input": "2025-05-04T20:32:01.086238Z",
     "iopub.status.busy": "2025-05-04T20:32:01.086066Z",
     "iopub.status.idle": "2025-05-04T22:17:18.385389Z",
     "shell.execute_reply": "2025-05-04T22:17:18.384469Z"
    },
    "papermill": {
     "duration": 6317.303225,
     "end_time": "2025-05-04T22:17:18.386723",
     "exception": false,
     "start_time": "2025-05-04T20:32:01.083498",
     "status": "completed"
    },
    "tags": []
   },
   "outputs": [
    {
     "name": "stdout",
     "output_type": "stream",
     "text": [
      "Removed 0 outliers from the dataset.\n",
      "Removed 0 outliers from the dataset.\n"
     ]
    },
    {
     "name": "stderr",
     "output_type": "stream",
     "text": [
      "Downloading: \"https://github.com/facebookresearch/dinov2/zipball/main\" to /root/.cache/torch/hub/main.zip\n",
      "/root/.cache/torch/hub/facebookresearch_dinov2_main/dinov2/layers/swiglu_ffn.py:51: UserWarning: xFormers is not available (SwiGLU)\n",
      "  warnings.warn(\"xFormers is not available (SwiGLU)\")\n",
      "/root/.cache/torch/hub/facebookresearch_dinov2_main/dinov2/layers/attention.py:33: UserWarning: xFormers is not available (Attention)\n",
      "  warnings.warn(\"xFormers is not available (Attention)\")\n",
      "/root/.cache/torch/hub/facebookresearch_dinov2_main/dinov2/layers/block.py:40: UserWarning: xFormers is not available (Block)\n",
      "  warnings.warn(\"xFormers is not available (Block)\")\n",
      "Downloading: \"https://dl.fbaipublicfiles.com/dinov2/dinov2_vitb14/dinov2_vitb14_pretrain.pth\" to /root/.cache/torch/hub/checkpoints/dinov2_vitb14_pretrain.pth\n",
      "100%|██████████| 330M/330M [00:01<00:00, 188MB/s]\n",
      "/tmp/ipykernel_19/355825972.py:348: FutureWarning: `torch.cuda.amp.GradScaler(args...)` is deprecated. Please use `torch.amp.GradScaler('cuda', args...)` instead.\n",
      "  scaler = torch.cuda.amp.GradScaler()\n",
      "Epoch 1 [Train]:   0%|          | 0/205 [00:00<?, ?it/s]/tmp/ipykernel_19/355825972.py:33: FutureWarning: `torch.cuda.amp.autocast(args...)` is deprecated. Please use `torch.amp.autocast('cuda', args...)` instead.\n",
      "  with torch.cuda.amp.autocast():\n",
      "Epoch 1 [Train]: 100%|██████████| 205/205 [01:21<00:00,  2.53it/s, loss=0.8224, error=76.97°]\n",
      "Validation: 100%|██████████| 12/12 [00:05<00:00,  2.10it/s, val_loss=0.6669, val_error=65.53°]\n"
     ]
    },
    {
     "name": "stdout",
     "output_type": "stream",
     "text": [
      "\n",
      "Epoch 1/70\n",
      "Train Loss: 0.8224, Train Error: 76.97°\n",
      "Val Loss: 0.6669, Val Error: 65.53°\n",
      "Saved best model with Val Error: 65.53°\n"
     ]
    },
    {
     "name": "stderr",
     "output_type": "stream",
     "text": [
      "Epoch 2 [Train]: 100%|██████████| 205/205 [01:23<00:00,  2.45it/s, loss=0.5879, error=59.88°]\n",
      "Validation: 100%|██████████| 12/12 [00:05<00:00,  2.11it/s, val_loss=0.5491, val_error=56.98°]\n"
     ]
    },
    {
     "name": "stdout",
     "output_type": "stream",
     "text": [
      "\n",
      "Epoch 2/70\n",
      "Train Loss: 0.5879, Train Error: 59.88°\n",
      "Val Loss: 0.5491, Val Error: 56.98°\n",
      "Saved best model with Val Error: 56.98°\n"
     ]
    },
    {
     "name": "stderr",
     "output_type": "stream",
     "text": [
      "Epoch 3 [Train]: 100%|██████████| 205/205 [01:23<00:00,  2.45it/s, loss=0.4920, error=52.57°]\n",
      "Validation: 100%|██████████| 12/12 [00:05<00:00,  2.09it/s, val_loss=0.4205, val_error=46.90°]\n"
     ]
    },
    {
     "name": "stdout",
     "output_type": "stream",
     "text": [
      "\n",
      "Epoch 3/70\n",
      "Train Loss: 0.4920, Train Error: 52.57°\n",
      "Val Loss: 0.4205, Val Error: 46.90°\n",
      "Saved best model with Val Error: 46.90°\n"
     ]
    },
    {
     "name": "stderr",
     "output_type": "stream",
     "text": [
      "Epoch 4 [Train]: 100%|██████████| 205/205 [01:23<00:00,  2.44it/s, loss=0.4010, error=45.53°]\n",
      "Validation: 100%|██████████| 12/12 [00:05<00:00,  2.09it/s, val_loss=0.3548, val_error=41.52°]\n"
     ]
    },
    {
     "name": "stdout",
     "output_type": "stream",
     "text": [
      "\n",
      "Epoch 4/70\n",
      "Train Loss: 0.4010, Train Error: 45.53°\n",
      "Val Loss: 0.3548, Val Error: 41.52°\n",
      "Saved best model with Val Error: 41.52°\n"
     ]
    },
    {
     "name": "stderr",
     "output_type": "stream",
     "text": [
      "Epoch 5 [Train]: 100%|██████████| 205/205 [01:24<00:00,  2.44it/s, loss=0.3379, error=40.45°]\n",
      "Validation: 100%|██████████| 12/12 [00:05<00:00,  2.09it/s, val_loss=0.3539, val_error=41.09°]\n"
     ]
    },
    {
     "name": "stdout",
     "output_type": "stream",
     "text": [
      "\n",
      "Epoch 5/70\n",
      "Train Loss: 0.3379, Train Error: 40.45°\n",
      "Val Loss: 0.3539, Val Error: 41.09°\n",
      "Saved best model with Val Error: 41.09°\n"
     ]
    },
    {
     "name": "stderr",
     "output_type": "stream",
     "text": [
      "Epoch 6 [Train]: 100%|██████████| 205/205 [01:23<00:00,  2.44it/s, loss=0.3061, error=37.61°]\n",
      "Validation: 100%|██████████| 12/12 [00:05<00:00,  2.09it/s, val_loss=0.3193, val_error=38.11°]\n"
     ]
    },
    {
     "name": "stdout",
     "output_type": "stream",
     "text": [
      "\n",
      "Epoch 6/70\n",
      "Train Loss: 0.3061, Train Error: 37.61°\n",
      "Val Loss: 0.3193, Val Error: 38.11°\n",
      "Saved best model with Val Error: 38.11°\n"
     ]
    },
    {
     "name": "stderr",
     "output_type": "stream",
     "text": [
      "Epoch 7 [Train]: 100%|██████████| 205/205 [01:24<00:00,  2.42it/s, loss=0.2697, error=34.66°]\n",
      "Validation: 100%|██████████| 12/12 [00:05<00:00,  2.10it/s, val_loss=0.2848, val_error=35.47°]\n"
     ]
    },
    {
     "name": "stdout",
     "output_type": "stream",
     "text": [
      "\n",
      "Epoch 7/70\n",
      "Train Loss: 0.2697, Train Error: 34.66°\n",
      "Val Loss: 0.2848, Val Error: 35.47°\n",
      "Saved best model with Val Error: 35.47°\n"
     ]
    },
    {
     "name": "stderr",
     "output_type": "stream",
     "text": [
      "Epoch 8 [Train]: 100%|██████████| 205/205 [01:23<00:00,  2.44it/s, loss=0.2466, error=32.52°]\n",
      "Validation: 100%|██████████| 12/12 [00:05<00:00,  2.09it/s, val_loss=0.2482, val_error=32.12°]\n"
     ]
    },
    {
     "name": "stdout",
     "output_type": "stream",
     "text": [
      "\n",
      "Epoch 8/70\n",
      "Train Loss: 0.2466, Train Error: 32.52°\n",
      "Val Loss: 0.2482, Val Error: 32.12°\n",
      "Saved best model with Val Error: 32.12°\n"
     ]
    },
    {
     "name": "stderr",
     "output_type": "stream",
     "text": [
      "Epoch 9 [Train]: 100%|██████████| 205/205 [01:23<00:00,  2.44it/s, loss=0.2325, error=31.32°]\n",
      "Validation: 100%|██████████| 12/12 [00:05<00:00,  2.10it/s, val_loss=0.2741, val_error=34.75°]\n"
     ]
    },
    {
     "name": "stdout",
     "output_type": "stream",
     "text": [
      "\n",
      "Epoch 9/70\n",
      "Train Loss: 0.2325, Train Error: 31.32°\n",
      "Val Loss: 0.2741, Val Error: 34.75°\n"
     ]
    },
    {
     "name": "stderr",
     "output_type": "stream",
     "text": [
      "Epoch 10 [Train]: 100%|██████████| 205/205 [01:24<00:00,  2.44it/s, loss=0.2117, error=29.57°]\n",
      "Validation: 100%|██████████| 12/12 [00:05<00:00,  2.08it/s, val_loss=0.2413, val_error=30.91°]\n"
     ]
    },
    {
     "name": "stdout",
     "output_type": "stream",
     "text": [
      "\n",
      "Epoch 10/70\n",
      "Train Loss: 0.2117, Train Error: 29.57°\n",
      "Val Loss: 0.2413, Val Error: 30.91°\n",
      "Saved best model with Val Error: 30.91°\n"
     ]
    },
    {
     "name": "stderr",
     "output_type": "stream",
     "text": [
      "Epoch 11 [Train]: 100%|██████████| 205/205 [01:24<00:00,  2.44it/s, loss=0.1915, error=27.70°]\n",
      "Validation: 100%|██████████| 12/12 [00:05<00:00,  2.07it/s, val_loss=0.2374, val_error=30.91°]\n"
     ]
    },
    {
     "name": "stdout",
     "output_type": "stream",
     "text": [
      "\n",
      "Epoch 11/70\n",
      "Train Loss: 0.1915, Train Error: 27.70°\n",
      "Val Loss: 0.2374, Val Error: 30.91°\n",
      "Saved best model with Val Error: 30.91°\n"
     ]
    },
    {
     "name": "stderr",
     "output_type": "stream",
     "text": [
      "Epoch 12 [Train]: 100%|██████████| 205/205 [01:24<00:00,  2.44it/s, loss=0.1728, error=25.85°]\n",
      "Validation: 100%|██████████| 12/12 [00:05<00:00,  2.07it/s, val_loss=0.2350, val_error=30.62°]\n"
     ]
    },
    {
     "name": "stdout",
     "output_type": "stream",
     "text": [
      "\n",
      "Epoch 12/70\n",
      "Train Loss: 0.1728, Train Error: 25.85°\n",
      "Val Loss: 0.2350, Val Error: 30.62°\n",
      "Saved best model with Val Error: 30.62°\n"
     ]
    },
    {
     "name": "stderr",
     "output_type": "stream",
     "text": [
      "Epoch 13 [Train]: 100%|██████████| 205/205 [01:24<00:00,  2.44it/s, loss=0.1652, error=24.95°]\n",
      "Validation: 100%|██████████| 12/12 [00:05<00:00,  2.05it/s, val_loss=0.1881, val_error=26.20°]\n"
     ]
    },
    {
     "name": "stdout",
     "output_type": "stream",
     "text": [
      "\n",
      "Epoch 13/70\n",
      "Train Loss: 0.1652, Train Error: 24.95°\n",
      "Val Loss: 0.1881, Val Error: 26.20°\n",
      "Saved best model with Val Error: 26.20°\n"
     ]
    },
    {
     "name": "stderr",
     "output_type": "stream",
     "text": [
      "Epoch 14 [Train]: 100%|██████████| 205/205 [01:23<00:00,  2.44it/s, loss=0.1521, error=23.99°]\n",
      "Validation: 100%|██████████| 12/12 [00:05<00:00,  2.07it/s, val_loss=0.1947, val_error=26.88°]\n"
     ]
    },
    {
     "name": "stdout",
     "output_type": "stream",
     "text": [
      "\n",
      "Epoch 14/70\n",
      "Train Loss: 0.1521, Train Error: 23.99°\n",
      "Val Loss: 0.1947, Val Error: 26.88°\n"
     ]
    },
    {
     "name": "stderr",
     "output_type": "stream",
     "text": [
      "Epoch 15 [Train]: 100%|██████████| 205/205 [01:24<00:00,  2.44it/s, loss=0.1452, error=23.10°]\n",
      "Validation: 100%|██████████| 12/12 [00:05<00:00,  2.07it/s, val_loss=0.1910, val_error=26.52°]\n"
     ]
    },
    {
     "name": "stdout",
     "output_type": "stream",
     "text": [
      "\n",
      "Epoch 15/70\n",
      "Train Loss: 0.1452, Train Error: 23.10°\n",
      "Val Loss: 0.1910, Val Error: 26.52°\n"
     ]
    },
    {
     "name": "stderr",
     "output_type": "stream",
     "text": [
      "Epoch 16 [Train]: 100%|██████████| 205/205 [01:23<00:00,  2.44it/s, loss=0.1395, error=22.70°]\n",
      "Validation: 100%|██████████| 12/12 [00:05<00:00,  2.08it/s, val_loss=0.1917, val_error=26.58°]\n"
     ]
    },
    {
     "name": "stdout",
     "output_type": "stream",
     "text": [
      "\n",
      "Epoch 16/70\n",
      "Train Loss: 0.1395, Train Error: 22.70°\n",
      "Val Loss: 0.1917, Val Error: 26.58°\n"
     ]
    },
    {
     "name": "stderr",
     "output_type": "stream",
     "text": [
      "Epoch 17 [Train]: 100%|██████████| 205/205 [01:24<00:00,  2.43it/s, loss=0.1299, error=21.63°]\n",
      "Validation: 100%|██████████| 12/12 [00:05<00:00,  2.09it/s, val_loss=0.1907, val_error=26.35°]\n"
     ]
    },
    {
     "name": "stdout",
     "output_type": "stream",
     "text": [
      "\n",
      "Epoch 17/70\n",
      "Train Loss: 0.1299, Train Error: 21.63°\n",
      "Val Loss: 0.1907, Val Error: 26.35°\n"
     ]
    },
    {
     "name": "stderr",
     "output_type": "stream",
     "text": [
      "Epoch 18 [Train]: 100%|██████████| 205/205 [01:23<00:00,  2.45it/s, loss=0.1213, error=20.79°]\n",
      "Validation: 100%|██████████| 12/12 [00:05<00:00,  2.04it/s, val_loss=0.2066, val_error=27.32°]\n"
     ]
    },
    {
     "name": "stdout",
     "output_type": "stream",
     "text": [
      "\n",
      "Epoch 18/70\n",
      "Train Loss: 0.1213, Train Error: 20.79°\n",
      "Val Loss: 0.2066, Val Error: 27.32°\n"
     ]
    },
    {
     "name": "stderr",
     "output_type": "stream",
     "text": [
      "Epoch 19 [Train]: 100%|██████████| 205/205 [01:23<00:00,  2.44it/s, loss=0.1151, error=20.26°]\n",
      "Validation: 100%|██████████| 12/12 [00:05<00:00,  2.06it/s, val_loss=0.1892, val_error=25.64°]\n"
     ]
    },
    {
     "name": "stdout",
     "output_type": "stream",
     "text": [
      "\n",
      "Epoch 19/70\n",
      "Train Loss: 0.1151, Train Error: 20.26°\n",
      "Val Loss: 0.1892, Val Error: 25.64°\n",
      "Saved best model with Val Error: 25.64°\n"
     ]
    },
    {
     "name": "stderr",
     "output_type": "stream",
     "text": [
      "Epoch 20 [Train]: 100%|██████████| 205/205 [01:24<00:00,  2.44it/s, loss=0.1101, error=19.77°]\n",
      "Validation: 100%|██████████| 12/12 [00:05<00:00,  2.08it/s, val_loss=0.1907, val_error=26.26°]\n"
     ]
    },
    {
     "name": "stdout",
     "output_type": "stream",
     "text": [
      "\n",
      "Epoch 20/70\n",
      "Train Loss: 0.1101, Train Error: 19.77°\n",
      "Val Loss: 0.1907, Val Error: 26.26°\n"
     ]
    },
    {
     "name": "stderr",
     "output_type": "stream",
     "text": [
      "Epoch 21 [Train]: 100%|██████████| 205/205 [01:24<00:00,  2.43it/s, loss=0.1062, error=19.22°]\n",
      "Validation: 100%|██████████| 12/12 [00:05<00:00,  2.10it/s, val_loss=0.1889, val_error=26.06°]\n"
     ]
    },
    {
     "name": "stdout",
     "output_type": "stream",
     "text": [
      "\n",
      "Epoch 21/70\n",
      "Train Loss: 0.1062, Train Error: 19.22°\n",
      "Val Loss: 0.1889, Val Error: 26.06°\n"
     ]
    },
    {
     "name": "stderr",
     "output_type": "stream",
     "text": [
      "Epoch 22 [Train]: 100%|██████████| 205/205 [01:23<00:00,  2.44it/s, loss=0.0977, error=18.27°]\n",
      "Validation: 100%|██████████| 12/12 [00:05<00:00,  2.09it/s, val_loss=0.1726, val_error=24.26°]\n"
     ]
    },
    {
     "name": "stdout",
     "output_type": "stream",
     "text": [
      "\n",
      "Epoch 22/70\n",
      "Train Loss: 0.0977, Train Error: 18.27°\n",
      "Val Loss: 0.1726, Val Error: 24.26°\n",
      "Saved best model with Val Error: 24.26°\n"
     ]
    },
    {
     "name": "stderr",
     "output_type": "stream",
     "text": [
      "Epoch 23 [Train]: 100%|██████████| 205/205 [01:23<00:00,  2.44it/s, loss=0.0922, error=17.65°]\n",
      "Validation: 100%|██████████| 12/12 [00:05<00:00,  2.08it/s, val_loss=0.1808, val_error=25.34°]\n"
     ]
    },
    {
     "name": "stdout",
     "output_type": "stream",
     "text": [
      "\n",
      "Epoch 23/70\n",
      "Train Loss: 0.0922, Train Error: 17.65°\n",
      "Val Loss: 0.1808, Val Error: 25.34°\n"
     ]
    },
    {
     "name": "stderr",
     "output_type": "stream",
     "text": [
      "Epoch 24 [Train]: 100%|██████████| 205/205 [01:23<00:00,  2.44it/s, loss=0.0897, error=17.42°]\n",
      "Validation: 100%|██████████| 12/12 [00:05<00:00,  2.09it/s, val_loss=0.1813, val_error=25.41°]\n"
     ]
    },
    {
     "name": "stdout",
     "output_type": "stream",
     "text": [
      "\n",
      "Epoch 24/70\n",
      "Train Loss: 0.0897, Train Error: 17.42°\n",
      "Val Loss: 0.1813, Val Error: 25.41°\n"
     ]
    },
    {
     "name": "stderr",
     "output_type": "stream",
     "text": [
      "Epoch 25 [Train]: 100%|██████████| 205/205 [01:23<00:00,  2.44it/s, loss=0.0890, error=17.13°]\n",
      "Validation: 100%|██████████| 12/12 [00:05<00:00,  2.08it/s, val_loss=0.1845, val_error=25.29°]\n"
     ]
    },
    {
     "name": "stdout",
     "output_type": "stream",
     "text": [
      "\n",
      "Epoch 25/70\n",
      "Train Loss: 0.0890, Train Error: 17.13°\n",
      "Val Loss: 0.1845, Val Error: 25.29°\n"
     ]
    },
    {
     "name": "stderr",
     "output_type": "stream",
     "text": [
      "Epoch 26 [Train]: 100%|██████████| 205/205 [01:23<00:00,  2.44it/s, loss=0.0833, error=16.72°]\n",
      "Validation: 100%|██████████| 12/12 [00:05<00:00,  2.07it/s, val_loss=0.1792, val_error=24.52°]\n"
     ]
    },
    {
     "name": "stdout",
     "output_type": "stream",
     "text": [
      "\n",
      "Epoch 26/70\n",
      "Train Loss: 0.0833, Train Error: 16.72°\n",
      "Val Loss: 0.1792, Val Error: 24.52°\n"
     ]
    },
    {
     "name": "stderr",
     "output_type": "stream",
     "text": [
      "Epoch 27 [Train]: 100%|██████████| 205/205 [01:23<00:00,  2.45it/s, loss=0.0811, error=16.41°]\n",
      "Validation: 100%|██████████| 12/12 [00:05<00:00,  2.09it/s, val_loss=0.1761, val_error=24.42°]\n"
     ]
    },
    {
     "name": "stdout",
     "output_type": "stream",
     "text": [
      "\n",
      "Epoch 27/70\n",
      "Train Loss: 0.0811, Train Error: 16.41°\n",
      "Val Loss: 0.1761, Val Error: 24.42°\n"
     ]
    },
    {
     "name": "stderr",
     "output_type": "stream",
     "text": [
      "Epoch 28 [Train]: 100%|██████████| 205/205 [01:23<00:00,  2.45it/s, loss=0.0817, error=16.45°]\n",
      "Validation: 100%|██████████| 12/12 [00:05<00:00,  2.09it/s, val_loss=0.1899, val_error=25.69°]\n"
     ]
    },
    {
     "name": "stdout",
     "output_type": "stream",
     "text": [
      "\n",
      "Epoch 28/70\n",
      "Train Loss: 0.0817, Train Error: 16.45°\n",
      "Val Loss: 0.1899, Val Error: 25.69°\n"
     ]
    },
    {
     "name": "stderr",
     "output_type": "stream",
     "text": [
      "Epoch 29 [Train]: 100%|██████████| 205/205 [01:23<00:00,  2.44it/s, loss=0.0724, error=15.48°]\n",
      "Validation: 100%|██████████| 12/12 [00:05<00:00,  2.11it/s, val_loss=0.1683, val_error=23.76°]\n"
     ]
    },
    {
     "name": "stdout",
     "output_type": "stream",
     "text": [
      "\n",
      "Epoch 29/70\n",
      "Train Loss: 0.0724, Train Error: 15.48°\n",
      "Val Loss: 0.1683, Val Error: 23.76°\n",
      "Saved best model with Val Error: 23.76°\n"
     ]
    },
    {
     "name": "stderr",
     "output_type": "stream",
     "text": [
      "Epoch 30 [Train]: 100%|██████████| 205/205 [01:24<00:00,  2.44it/s, loss=0.0725, error=15.43°]\n",
      "Validation: 100%|██████████| 12/12 [00:05<00:00,  2.09it/s, val_loss=0.1681, val_error=23.45°]\n"
     ]
    },
    {
     "name": "stdout",
     "output_type": "stream",
     "text": [
      "\n",
      "Epoch 30/70\n",
      "Train Loss: 0.0725, Train Error: 15.43°\n",
      "Val Loss: 0.1681, Val Error: 23.45°\n",
      "Saved best model with Val Error: 23.45°\n"
     ]
    },
    {
     "name": "stderr",
     "output_type": "stream",
     "text": [
      "Epoch 31 [Train]: 100%|██████████| 205/205 [01:23<00:00,  2.45it/s, loss=0.0703, error=15.20°]\n",
      "Validation: 100%|██████████| 12/12 [00:05<00:00,  2.08it/s, val_loss=0.1632, val_error=23.15°]\n"
     ]
    },
    {
     "name": "stdout",
     "output_type": "stream",
     "text": [
      "\n",
      "Epoch 31/70\n",
      "Train Loss: 0.0703, Train Error: 15.20°\n",
      "Val Loss: 0.1632, Val Error: 23.15°\n",
      "Saved best model with Val Error: 23.15°\n"
     ]
    },
    {
     "name": "stderr",
     "output_type": "stream",
     "text": [
      "Epoch 32 [Train]: 100%|██████████| 205/205 [01:23<00:00,  2.44it/s, loss=0.0655, error=14.58°]\n",
      "Validation: 100%|██████████| 12/12 [00:05<00:00,  2.10it/s, val_loss=0.1804, val_error=24.14°]\n"
     ]
    },
    {
     "name": "stdout",
     "output_type": "stream",
     "text": [
      "\n",
      "Epoch 32/70\n",
      "Train Loss: 0.0655, Train Error: 14.58°\n",
      "Val Loss: 0.1804, Val Error: 24.14°\n"
     ]
    },
    {
     "name": "stderr",
     "output_type": "stream",
     "text": [
      "Epoch 33 [Train]: 100%|██████████| 205/205 [01:23<00:00,  2.45it/s, loss=0.0653, error=14.54°]\n",
      "Validation: 100%|██████████| 12/12 [00:05<00:00,  2.09it/s, val_loss=0.1792, val_error=24.27°]\n"
     ]
    },
    {
     "name": "stdout",
     "output_type": "stream",
     "text": [
      "\n",
      "Epoch 33/70\n",
      "Train Loss: 0.0653, Train Error: 14.54°\n",
      "Val Loss: 0.1792, Val Error: 24.27°\n"
     ]
    },
    {
     "name": "stderr",
     "output_type": "stream",
     "text": [
      "Epoch 34 [Train]: 100%|██████████| 205/205 [01:23<00:00,  2.45it/s, loss=0.0615, error=14.22°]\n",
      "Validation: 100%|██████████| 12/12 [00:05<00:00,  2.09it/s, val_loss=0.1677, val_error=23.45°]\n"
     ]
    },
    {
     "name": "stdout",
     "output_type": "stream",
     "text": [
      "\n",
      "Epoch 34/70\n",
      "Train Loss: 0.0615, Train Error: 14.22°\n",
      "Val Loss: 0.1677, Val Error: 23.45°\n"
     ]
    },
    {
     "name": "stderr",
     "output_type": "stream",
     "text": [
      "Epoch 35 [Train]: 100%|██████████| 205/205 [01:23<00:00,  2.45it/s, loss=0.0595, error=13.83°]\n",
      "Validation: 100%|██████████| 12/12 [00:05<00:00,  2.10it/s, val_loss=0.1706, val_error=23.74°]\n"
     ]
    },
    {
     "name": "stdout",
     "output_type": "stream",
     "text": [
      "\n",
      "Epoch 35/70\n",
      "Train Loss: 0.0595, Train Error: 13.83°\n",
      "Val Loss: 0.1706, Val Error: 23.74°\n"
     ]
    },
    {
     "name": "stderr",
     "output_type": "stream",
     "text": [
      "Epoch 36 [Train]: 100%|██████████| 205/205 [01:23<00:00,  2.45it/s, loss=0.0592, error=13.79°]\n",
      "Validation: 100%|██████████| 12/12 [00:05<00:00,  2.09it/s, val_loss=0.1797, val_error=24.20°]\n"
     ]
    },
    {
     "name": "stdout",
     "output_type": "stream",
     "text": [
      "\n",
      "Epoch 36/70\n",
      "Train Loss: 0.0592, Train Error: 13.79°\n",
      "Val Loss: 0.1797, Val Error: 24.20°\n"
     ]
    },
    {
     "name": "stderr",
     "output_type": "stream",
     "text": [
      "Epoch 37 [Train]: 100%|██████████| 205/205 [01:23<00:00,  2.45it/s, loss=0.0550, error=13.40°]\n",
      "Validation: 100%|██████████| 12/12 [00:05<00:00,  2.09it/s, val_loss=0.1561, val_error=22.13°]\n"
     ]
    },
    {
     "name": "stdout",
     "output_type": "stream",
     "text": [
      "\n",
      "Epoch 37/70\n",
      "Train Loss: 0.0550, Train Error: 13.40°\n",
      "Val Loss: 0.1561, Val Error: 22.13°\n",
      "Saved best model with Val Error: 22.13°\n"
     ]
    },
    {
     "name": "stderr",
     "output_type": "stream",
     "text": [
      "Epoch 38 [Train]: 100%|██████████| 205/205 [01:23<00:00,  2.45it/s, loss=0.0549, error=13.20°]\n",
      "Validation: 100%|██████████| 12/12 [00:05<00:00,  2.10it/s, val_loss=0.1663, val_error=23.01°]\n"
     ]
    },
    {
     "name": "stdout",
     "output_type": "stream",
     "text": [
      "\n",
      "Epoch 38/70\n",
      "Train Loss: 0.0549, Train Error: 13.20°\n",
      "Val Loss: 0.1663, Val Error: 23.01°\n"
     ]
    },
    {
     "name": "stderr",
     "output_type": "stream",
     "text": [
      "Epoch 39 [Train]: 100%|██████████| 205/205 [01:23<00:00,  2.45it/s, loss=0.0518, error=12.91°]\n",
      "Validation: 100%|██████████| 12/12 [00:05<00:00,  2.09it/s, val_loss=0.1623, val_error=22.54°]\n"
     ]
    },
    {
     "name": "stdout",
     "output_type": "stream",
     "text": [
      "\n",
      "Epoch 39/70\n",
      "Train Loss: 0.0518, Train Error: 12.91°\n",
      "Val Loss: 0.1623, Val Error: 22.54°\n"
     ]
    },
    {
     "name": "stderr",
     "output_type": "stream",
     "text": [
      "Epoch 40 [Train]: 100%|██████████| 205/205 [01:23<00:00,  2.45it/s, loss=0.0505, error=12.68°]\n",
      "Validation: 100%|██████████| 12/12 [00:05<00:00,  2.06it/s, val_loss=0.1615, val_error=22.40°]\n"
     ]
    },
    {
     "name": "stdout",
     "output_type": "stream",
     "text": [
      "\n",
      "Epoch 40/70\n",
      "Train Loss: 0.0505, Train Error: 12.68°\n",
      "Val Loss: 0.1615, Val Error: 22.40°\n"
     ]
    },
    {
     "name": "stderr",
     "output_type": "stream",
     "text": [
      "Epoch 41 [Train]: 100%|██████████| 205/205 [01:23<00:00,  2.45it/s, loss=0.0467, error=12.24°]\n",
      "Validation: 100%|██████████| 12/12 [00:05<00:00,  2.08it/s, val_loss=0.1628, val_error=22.79°]\n"
     ]
    },
    {
     "name": "stdout",
     "output_type": "stream",
     "text": [
      "\n",
      "Epoch 41/70\n",
      "Train Loss: 0.0467, Train Error: 12.24°\n",
      "Val Loss: 0.1628, Val Error: 22.79°\n"
     ]
    },
    {
     "name": "stderr",
     "output_type": "stream",
     "text": [
      "Epoch 42 [Train]: 100%|██████████| 205/205 [01:24<00:00,  2.43it/s, loss=0.0477, error=12.27°]\n",
      "Validation: 100%|██████████| 12/12 [00:05<00:00,  2.09it/s, val_loss=0.1610, val_error=22.77°]\n"
     ]
    },
    {
     "name": "stdout",
     "output_type": "stream",
     "text": [
      "\n",
      "Epoch 42/70\n",
      "Train Loss: 0.0477, Train Error: 12.27°\n",
      "Val Loss: 0.1610, Val Error: 22.77°\n"
     ]
    },
    {
     "name": "stderr",
     "output_type": "stream",
     "text": [
      "Epoch 43 [Train]: 100%|██████████| 205/205 [01:23<00:00,  2.45it/s, loss=0.0468, error=12.16°]\n",
      "Validation: 100%|██████████| 12/12 [00:05<00:00,  2.07it/s, val_loss=0.1772, val_error=24.00°]\n"
     ]
    },
    {
     "name": "stdout",
     "output_type": "stream",
     "text": [
      "\n",
      "Epoch 43/70\n",
      "Train Loss: 0.0468, Train Error: 12.16°\n",
      "Val Loss: 0.1772, Val Error: 24.00°\n"
     ]
    },
    {
     "name": "stderr",
     "output_type": "stream",
     "text": [
      "Epoch 44 [Train]: 100%|██████████| 205/205 [01:23<00:00,  2.45it/s, loss=0.0465, error=12.08°]\n",
      "Validation: 100%|██████████| 12/12 [00:05<00:00,  2.08it/s, val_loss=0.1756, val_error=23.74°]\n"
     ]
    },
    {
     "name": "stdout",
     "output_type": "stream",
     "text": [
      "\n",
      "Epoch 44/70\n",
      "Train Loss: 0.0465, Train Error: 12.08°\n",
      "Val Loss: 0.1756, Val Error: 23.74°\n"
     ]
    },
    {
     "name": "stderr",
     "output_type": "stream",
     "text": [
      "Epoch 45 [Train]: 100%|██████████| 205/205 [01:23<00:00,  2.45it/s, loss=0.0447, error=11.83°]\n",
      "Validation: 100%|██████████| 12/12 [00:05<00:00,  2.07it/s, val_loss=0.1887, val_error=24.82°]\n"
     ]
    },
    {
     "name": "stdout",
     "output_type": "stream",
     "text": [
      "\n",
      "Epoch 45/70\n",
      "Train Loss: 0.0447, Train Error: 11.83°\n",
      "Val Loss: 0.1887, Val Error: 24.82°\n"
     ]
    },
    {
     "name": "stderr",
     "output_type": "stream",
     "text": [
      "Epoch 46 [Train]: 100%|██████████| 205/205 [01:23<00:00,  2.45it/s, loss=0.0446, error=11.79°]\n",
      "Validation: 100%|██████████| 12/12 [00:05<00:00,  2.09it/s, val_loss=0.1702, val_error=23.41°]\n"
     ]
    },
    {
     "name": "stdout",
     "output_type": "stream",
     "text": [
      "\n",
      "Epoch 46/70\n",
      "Train Loss: 0.0446, Train Error: 11.79°\n",
      "Val Loss: 0.1702, Val Error: 23.41°\n"
     ]
    },
    {
     "name": "stderr",
     "output_type": "stream",
     "text": [
      "Epoch 47 [Train]: 100%|██████████| 205/205 [01:23<00:00,  2.45it/s, loss=0.0421, error=11.61°]\n",
      "Validation: 100%|██████████| 12/12 [00:05<00:00,  2.09it/s, val_loss=0.1769, val_error=23.89°]\n"
     ]
    },
    {
     "name": "stdout",
     "output_type": "stream",
     "text": [
      "\n",
      "Epoch 47/70\n",
      "Train Loss: 0.0421, Train Error: 11.61°\n",
      "Val Loss: 0.1769, Val Error: 23.89°\n"
     ]
    },
    {
     "name": "stderr",
     "output_type": "stream",
     "text": [
      "Epoch 48 [Train]: 100%|██████████| 205/205 [01:23<00:00,  2.45it/s, loss=0.0420, error=11.70°]\n",
      "Validation: 100%|██████████| 12/12 [00:05<00:00,  2.07it/s, val_loss=0.1755, val_error=23.97°]\n"
     ]
    },
    {
     "name": "stdout",
     "output_type": "stream",
     "text": [
      "\n",
      "Epoch 48/70\n",
      "Train Loss: 0.0420, Train Error: 11.70°\n",
      "Val Loss: 0.1755, Val Error: 23.97°\n"
     ]
    },
    {
     "name": "stderr",
     "output_type": "stream",
     "text": [
      "Epoch 49 [Train]: 100%|██████████| 205/205 [01:23<00:00,  2.45it/s, loss=0.0405, error=11.20°]\n",
      "Validation: 100%|██████████| 12/12 [00:05<00:00,  2.09it/s, val_loss=0.1676, val_error=23.25°]\n"
     ]
    },
    {
     "name": "stdout",
     "output_type": "stream",
     "text": [
      "\n",
      "Epoch 49/70\n",
      "Train Loss: 0.0405, Train Error: 11.20°\n",
      "Val Loss: 0.1676, Val Error: 23.25°\n"
     ]
    },
    {
     "name": "stderr",
     "output_type": "stream",
     "text": [
      "Epoch 50 [Train]: 100%|██████████| 205/205 [01:23<00:00,  2.45it/s, loss=0.0400, error=11.18°]\n",
      "Validation: 100%|██████████| 12/12 [00:05<00:00,  2.09it/s, val_loss=0.1720, val_error=23.67°]\n"
     ]
    },
    {
     "name": "stdout",
     "output_type": "stream",
     "text": [
      "\n",
      "Epoch 50/70\n",
      "Train Loss: 0.0400, Train Error: 11.18°\n",
      "Val Loss: 0.1720, Val Error: 23.67°\n"
     ]
    },
    {
     "name": "stderr",
     "output_type": "stream",
     "text": [
      "Epoch 51 [Train]: 100%|██████████| 205/205 [01:24<00:00,  2.43it/s, loss=0.0400, error=11.17°]\n",
      "Validation: 100%|██████████| 12/12 [00:05<00:00,  2.09it/s, val_loss=0.1678, val_error=23.28°]\n"
     ]
    },
    {
     "name": "stdout",
     "output_type": "stream",
     "text": [
      "\n",
      "Epoch 51/70\n",
      "Train Loss: 0.0400, Train Error: 11.17°\n",
      "Val Loss: 0.1678, Val Error: 23.28°\n"
     ]
    },
    {
     "name": "stderr",
     "output_type": "stream",
     "text": [
      "Epoch 52 [Train]: 100%|██████████| 205/205 [01:23<00:00,  2.45it/s, loss=0.0369, error=10.91°]\n",
      "Validation: 100%|██████████| 12/12 [00:05<00:00,  2.09it/s, val_loss=0.1671, val_error=23.18°]\n"
     ]
    },
    {
     "name": "stdout",
     "output_type": "stream",
     "text": [
      "\n",
      "Epoch 52/70\n",
      "Train Loss: 0.0369, Train Error: 10.91°\n",
      "Val Loss: 0.1671, Val Error: 23.18°\n"
     ]
    },
    {
     "name": "stderr",
     "output_type": "stream",
     "text": [
      "Epoch 53 [Train]: 100%|██████████| 205/205 [01:23<00:00,  2.45it/s, loss=0.0383, error=11.01°]\n",
      "Validation: 100%|██████████| 12/12 [00:05<00:00,  2.09it/s, val_loss=0.1677, val_error=23.20°]\n"
     ]
    },
    {
     "name": "stdout",
     "output_type": "stream",
     "text": [
      "\n",
      "Epoch 53/70\n",
      "Train Loss: 0.0383, Train Error: 11.01°\n",
      "Val Loss: 0.1677, Val Error: 23.20°\n"
     ]
    },
    {
     "name": "stderr",
     "output_type": "stream",
     "text": [
      "Epoch 54 [Train]: 100%|██████████| 205/205 [01:23<00:00,  2.45it/s, loss=0.0369, error=10.77°]\n",
      "Validation: 100%|██████████| 12/12 [00:05<00:00,  2.09it/s, val_loss=0.1668, val_error=23.29°]\n"
     ]
    },
    {
     "name": "stdout",
     "output_type": "stream",
     "text": [
      "\n",
      "Epoch 54/70\n",
      "Train Loss: 0.0369, Train Error: 10.77°\n",
      "Val Loss: 0.1668, Val Error: 23.29°\n"
     ]
    },
    {
     "name": "stderr",
     "output_type": "stream",
     "text": [
      "Epoch 55 [Train]: 100%|██████████| 205/205 [01:23<00:00,  2.45it/s, loss=0.0379, error=10.82°]\n",
      "Validation: 100%|██████████| 12/12 [00:05<00:00,  2.09it/s, val_loss=0.1664, val_error=23.02°]\n"
     ]
    },
    {
     "name": "stdout",
     "output_type": "stream",
     "text": [
      "\n",
      "Epoch 55/70\n",
      "Train Loss: 0.0379, Train Error: 10.82°\n",
      "Val Loss: 0.1664, Val Error: 23.02°\n"
     ]
    },
    {
     "name": "stderr",
     "output_type": "stream",
     "text": [
      "Epoch 56 [Train]: 100%|██████████| 205/205 [01:23<00:00,  2.45it/s, loss=0.0354, error=10.51°]\n",
      "Validation: 100%|██████████| 12/12 [00:05<00:00,  2.09it/s, val_loss=0.1660, val_error=23.07°]\n"
     ]
    },
    {
     "name": "stdout",
     "output_type": "stream",
     "text": [
      "\n",
      "Epoch 56/70\n",
      "Train Loss: 0.0354, Train Error: 10.51°\n",
      "Val Loss: 0.1660, Val Error: 23.07°\n"
     ]
    },
    {
     "name": "stderr",
     "output_type": "stream",
     "text": [
      "Epoch 57 [Train]: 100%|██████████| 205/205 [01:23<00:00,  2.45it/s, loss=0.0353, error=10.42°]\n",
      "Validation: 100%|██████████| 12/12 [00:05<00:00,  2.10it/s, val_loss=0.1651, val_error=23.00°]\n"
     ]
    },
    {
     "name": "stdout",
     "output_type": "stream",
     "text": [
      "\n",
      "Epoch 57/70\n",
      "Train Loss: 0.0353, Train Error: 10.42°\n",
      "Val Loss: 0.1651, Val Error: 23.00°\n"
     ]
    },
    {
     "name": "stderr",
     "output_type": "stream",
     "text": [
      "Epoch 58 [Train]: 100%|██████████| 205/205 [01:24<00:00,  2.44it/s, loss=0.0342, error=10.32°]\n",
      "Validation: 100%|██████████| 12/12 [00:05<00:00,  2.09it/s, val_loss=0.1641, val_error=22.92°]\n"
     ]
    },
    {
     "name": "stdout",
     "output_type": "stream",
     "text": [
      "\n",
      "Epoch 58/70\n",
      "Train Loss: 0.0342, Train Error: 10.32°\n",
      "Val Loss: 0.1641, Val Error: 22.92°\n"
     ]
    },
    {
     "name": "stderr",
     "output_type": "stream",
     "text": [
      "Epoch 59 [Train]: 100%|██████████| 205/205 [01:23<00:00,  2.45it/s, loss=0.0349, error=10.49°]\n",
      "Validation: 100%|██████████| 12/12 [00:05<00:00,  2.08it/s, val_loss=0.1651, val_error=22.87°]\n"
     ]
    },
    {
     "name": "stdout",
     "output_type": "stream",
     "text": [
      "\n",
      "Epoch 59/70\n",
      "Train Loss: 0.0349, Train Error: 10.49°\n",
      "Val Loss: 0.1651, Val Error: 22.87°\n"
     ]
    },
    {
     "name": "stderr",
     "output_type": "stream",
     "text": [
      "Epoch 60 [Train]: 100%|██████████| 205/205 [01:23<00:00,  2.44it/s, loss=0.0338, error=10.33°]\n",
      "Validation: 100%|██████████| 12/12 [00:05<00:00,  2.08it/s, val_loss=0.1653, val_error=22.90°]\n"
     ]
    },
    {
     "name": "stdout",
     "output_type": "stream",
     "text": [
      "\n",
      "Epoch 60/70\n",
      "Train Loss: 0.0338, Train Error: 10.33°\n",
      "Val Loss: 0.1653, Val Error: 22.90°\n"
     ]
    },
    {
     "name": "stderr",
     "output_type": "stream",
     "text": [
      "Epoch 61 [Train]: 100%|██████████| 205/205 [01:23<00:00,  2.45it/s, loss=0.0343, error=10.39°]\n",
      "Validation: 100%|██████████| 12/12 [00:05<00:00,  2.09it/s, val_loss=0.1653, val_error=22.94°]\n"
     ]
    },
    {
     "name": "stdout",
     "output_type": "stream",
     "text": [
      "\n",
      "Epoch 61/70\n",
      "Train Loss: 0.0343, Train Error: 10.39°\n",
      "Val Loss: 0.1653, Val Error: 22.94°\n"
     ]
    },
    {
     "name": "stderr",
     "output_type": "stream",
     "text": [
      "Epoch 62 [Train]: 100%|██████████| 205/205 [01:23<00:00,  2.45it/s, loss=0.0348, error=10.32°]\n",
      "Validation: 100%|██████████| 12/12 [00:05<00:00,  2.11it/s, val_loss=0.1661, val_error=22.97°]\n"
     ]
    },
    {
     "name": "stdout",
     "output_type": "stream",
     "text": [
      "\n",
      "Epoch 62/70\n",
      "Train Loss: 0.0348, Train Error: 10.32°\n",
      "Val Loss: 0.1661, Val Error: 22.97°\n"
     ]
    },
    {
     "name": "stderr",
     "output_type": "stream",
     "text": [
      "Epoch 63 [Train]: 100%|██████████| 205/205 [01:23<00:00,  2.45it/s, loss=0.0334, error=10.24°]\n",
      "Validation: 100%|██████████| 12/12 [00:05<00:00,  2.10it/s, val_loss=0.1639, val_error=22.79°]\n"
     ]
    },
    {
     "name": "stdout",
     "output_type": "stream",
     "text": [
      "\n",
      "Epoch 63/70\n",
      "Train Loss: 0.0334, Train Error: 10.24°\n",
      "Val Loss: 0.1639, Val Error: 22.79°\n"
     ]
    },
    {
     "name": "stderr",
     "output_type": "stream",
     "text": [
      "Epoch 64 [Train]: 100%|██████████| 205/205 [01:23<00:00,  2.45it/s, loss=0.0330, error=10.23°]\n",
      "Validation: 100%|██████████| 12/12 [00:05<00:00,  2.08it/s, val_loss=0.1638, val_error=22.77°]\n"
     ]
    },
    {
     "name": "stdout",
     "output_type": "stream",
     "text": [
      "\n",
      "Epoch 64/70\n",
      "Train Loss: 0.0330, Train Error: 10.23°\n",
      "Val Loss: 0.1638, Val Error: 22.77°\n"
     ]
    },
    {
     "name": "stderr",
     "output_type": "stream",
     "text": [
      "Epoch 65 [Train]: 100%|██████████| 205/205 [01:23<00:00,  2.45it/s, loss=0.0323, error=10.09°]\n",
      "Validation: 100%|██████████| 12/12 [00:05<00:00,  2.10it/s, val_loss=0.1654, val_error=22.88°]\n"
     ]
    },
    {
     "name": "stdout",
     "output_type": "stream",
     "text": [
      "\n",
      "Epoch 65/70\n",
      "Train Loss: 0.0323, Train Error: 10.09°\n",
      "Val Loss: 0.1654, Val Error: 22.88°\n"
     ]
    },
    {
     "name": "stderr",
     "output_type": "stream",
     "text": [
      "Epoch 66 [Train]: 100%|██████████| 205/205 [01:23<00:00,  2.45it/s, loss=0.0322, error=10.03°]\n",
      "Validation: 100%|██████████| 12/12 [00:05<00:00,  2.10it/s, val_loss=0.1660, val_error=22.93°]\n"
     ]
    },
    {
     "name": "stdout",
     "output_type": "stream",
     "text": [
      "\n",
      "Epoch 66/70\n",
      "Train Loss: 0.0322, Train Error: 10.03°\n",
      "Val Loss: 0.1660, Val Error: 22.93°\n"
     ]
    },
    {
     "name": "stderr",
     "output_type": "stream",
     "text": [
      "Epoch 67 [Train]: 100%|██████████| 205/205 [01:23<00:00,  2.45it/s, loss=0.0330, error=10.07°]\n",
      "Validation: 100%|██████████| 12/12 [00:05<00:00,  2.09it/s, val_loss=0.1649, val_error=22.88°]\n"
     ]
    },
    {
     "name": "stdout",
     "output_type": "stream",
     "text": [
      "\n",
      "Epoch 67/70\n",
      "Train Loss: 0.0330, Train Error: 10.07°\n",
      "Val Loss: 0.1649, Val Error: 22.88°\n"
     ]
    },
    {
     "name": "stderr",
     "output_type": "stream",
     "text": [
      "Epoch 68 [Train]: 100%|██████████| 205/205 [01:23<00:00,  2.45it/s, loss=0.0316, error=10.07°]\n",
      "Validation: 100%|██████████| 12/12 [00:05<00:00,  2.09it/s, val_loss=0.1656, val_error=22.89°]\n"
     ]
    },
    {
     "name": "stdout",
     "output_type": "stream",
     "text": [
      "\n",
      "Epoch 68/70\n",
      "Train Loss: 0.0316, Train Error: 10.07°\n",
      "Val Loss: 0.1656, Val Error: 22.89°\n"
     ]
    },
    {
     "name": "stderr",
     "output_type": "stream",
     "text": [
      "Epoch 69 [Train]: 100%|██████████| 205/205 [01:24<00:00,  2.44it/s, loss=0.0326, error=10.14°]\n",
      "Validation: 100%|██████████| 12/12 [00:05<00:00,  2.05it/s, val_loss=0.1641, val_error=22.77°]\n"
     ]
    },
    {
     "name": "stdout",
     "output_type": "stream",
     "text": [
      "\n",
      "Epoch 69/70\n",
      "Train Loss: 0.0326, Train Error: 10.14°\n",
      "Val Loss: 0.1641, Val Error: 22.77°\n"
     ]
    },
    {
     "name": "stderr",
     "output_type": "stream",
     "text": [
      "Epoch 70 [Train]: 100%|██████████| 205/205 [01:23<00:00,  2.45it/s, loss=0.0334, error=10.17°]\n",
      "Validation: 100%|██████████| 12/12 [00:05<00:00,  2.09it/s, val_loss=0.1638, val_error=22.72°]\n"
     ]
    },
    {
     "name": "stdout",
     "output_type": "stream",
     "text": [
      "\n",
      "Epoch 70/70\n",
      "Train Loss: 0.0334, Train Error: 10.17°\n",
      "Val Loss: 0.1638, Val Error: 22.72°\n"
     ]
    },
    {
     "data": {
      "image/png": "[encoded data removed]",
      "text/plain": [
       "<Figure size 1200x500 with 2 Axes>"
      ]
     },
     "metadata": {},
     "output_type": "display_data"
    },
    {
     "name": "stdout",
     "output_type": "stream",
     "text": [
      "Training completed. Best validation Error: 22.13°\n"
     ]
    },
    {
     "name": "stderr",
     "output_type": "stream",
     "text": [
      "/tmp/ipykernel_19/355825972.py:149: FutureWarning: You are using `torch.load` with `weights_only=False` (the current default value), which uses the default pickle module implicitly. It is possible to construct malicious pickle data which will execute arbitrary code during unpickling (See https://github.com/pytorch/pytorch/blob/main/SECURITY.md#untrusted-models for more details). In a future release, the default value for `weights_only` will be flipped to `True`. This limits the functions that could be executed during unpickling. Arbitrary objects will no longer be allowed to be loaded via this mode unless they are explicitly allowlisted by the user via `torch.serialization.add_safe_globals`. We recommend you start setting `weights_only=True` for any use case where you don't have full control of the loaded file. Please open an issue on GitHub for any issues related to this experimental feature.\n",
      "  best_checkpoint = torch.load(checkpoint_dir / \"best_model.pth\")\n",
      "Validation: 100%|██████████| 12/12 [00:05<00:00,  2.06it/s, val_loss=0.1561, val_error=22.13°]\n"
     ]
    },
    {
     "name": "stdout",
     "output_type": "stream",
     "text": [
      "Final Evaluation - Val Loss: 0.1561, Val Error: 22.13°\n"
     ]
    },
    {
     "name": "stderr",
     "output_type": "stream",
     "text": [
      "Testing: 100%|██████████| 12/12 [00:05<00:00,  2.07it/s]\n"
     ]
    },
    {
     "name": "stdout",
     "output_type": "stream",
     "text": [
      "\n",
      "Test Results:\n",
      "Mean Angular Difference: 22.66°\n",
      "Median Angular Difference: 11.22°\n",
      "Standard Deviation: 30.30°\n"
     ]
    },
    {
     "data": {
      "image/png": "[encoded data removed]",
      "text/plain": [
       "<Figure size 1000x600 with 1 Axes>"
      ]
     },
     "metadata": {},
     "output_type": "display_data"
    },
    {
     "data": {
      "text/plain": [
       "(22.664829185371957,\n",
       " 11.220059780367585,\n",
       " 30.303021969398205,\n",
       " [305.66682186959986,\n",
       "  89.28096116979424,\n",
       "  160.2316480413769,\n",
       "  308.7348813730671,\n",
       "  318.07121038353006,\n",
       "  337.52352596047655,\n",
       "  317.12407829660816,\n",
       "  326.87986288438,\n",
       "  29.80302500935206,\n",
       "  310.903121509993,\n",
       "  274.0099400855338,\n",
       "  230.54484284924206,\n",
       "  91.49485087603799,\n",
       "  111.72975074506432,\n",
       "  285.7510899102991,\n",
       "  237.72148653471453,\n",
       "  24.869599862419356,\n",
       "  85.70075359179198,\n",
       "  336.4808122063095,\n",
       "  123.83955320009187,\n",
       "  313.268658491284,\n",
       "  10.835657132344702,\n",
       "  258.955492815152,\n",
       "  159.44914058892522,\n",
       "  287.86120172229363,\n",
       "  101.10076062285222,\n",
       "  264.7766581390788,\n",
       "  342.2178996091007,\n",
       "  286.37622980427363,\n",
       "  95.33707134079111,\n",
       "  14.203558525280874,\n",
       "  285.0812395980176,\n",
       "  111.88991185091196,\n",
       "  6.291325664312827,\n",
       "  226.44735772463807,\n",
       "  316.17917626645027,\n",
       "  302.11700863340417,\n",
       "  31.727270298557656,\n",
       "  154.042157936268,\n",
       "  88.72891796031713,\n",
       "  288.6016693604039,\n",
       "  262.96300385781944,\n",
       "  75.63870332163678,\n",
       "  69.25060497584228,\n",
       "  34.576077314572856,\n",
       "  349.58057374190224,\n",
       "  331.8601397139244,\n",
       "  65.04682161718536,\n",
       "  4.340408059511506,\n",
       "  304.06381062234374,\n",
       "  5.919767215445541,\n",
       "  319.4171128198594,\n",
       "  312.99268128277504,\n",
       "  232.93295019064533,\n",
       "  93.62122536844636,\n",
       "  37.11022434571475,\n",
       "  99.46595484500966,\n",
       "  158.5147433897108,\n",
       "  310.840990694208,\n",
       "  297.5750079674266,\n",
       "  131.51850265750542,\n",
       "  337.9376744808003,\n",
       "  132.4700846126716,\n",
       "  27.710080877836315,\n",
       "  96.64699234057284,\n",
       "  130.13082678421227,\n",
       "  99.46930163770297,\n",
       "  81.2669567826457,\n",
       "  249.81430913946542,\n",
       "  312.3334997259771,\n",
       "  280.63993641097346,\n",
       "  123.83582391680504,\n",
       "  271.9603505797747,\n",
       "  325.53946558052166,\n",
       "  52.13409285918238,\n",
       "  315.57294575119283,\n",
       "  310.178732137189,\n",
       "  236.95470217773223,\n",
       "  291.30339166773746,\n",
       "  0.7738898881532403,\n",
       "  344.7752983117246,\n",
       "  25.926663844032625,\n",
       "  140.10313519886267,\n",
       "  140.64373101129084,\n",
       "  41.851864610942656,\n",
       "  101.48084015959591,\n",
       "  351.1613014969912,\n",
       "  41.21224471592764,\n",
       "  338.6708867504647,\n",
       "  127.00493606904259,\n",
       "  77.16263463868252,\n",
       "  324.8798776274681,\n",
       "  298.5275598094549,\n",
       "  112.0653520899329,\n",
       "  150.924449787724,\n",
       "  218.95091092184725,\n",
       "  198.65475791634424,\n",
       "  28.800554729774703,\n",
       "  50.15398345275525,\n",
       "  39.102228526581456,\n",
       "  309.69121713989557,\n",
       "  348.7611226500036,\n",
       "  119.617171236325,\n",
       "  152.46303186053942,\n",
       "  96.64679426508691,\n",
       "  251.80636113165633,\n",
       "  136.22321892008026,\n",
       "  235.1962289947774,\n",
       "  335.2387184000806,\n",
       "  71.885644146309,\n",
       "  199.76902131716176,\n",
       "  237.56507520272123,\n",
       "  308.637636554759,\n",
       "  256.8445272295112,\n",
       "  152.72812516260595,\n",
       "  226.78890816427372,\n",
       "  214.18419020198704,\n",
       "  249.64634112739648,\n",
       "  283.2780559967559,\n",
       "  347.9437931856159,\n",
       "  27.359185031868787,\n",
       "  252.63997205947805,\n",
       "  203.67837571126694,\n",
       "  167.01648475530075,\n",
       "  295.64750809308146,\n",
       "  132.16222066602245,\n",
       "  102.97532653112972,\n",
       "  14.976116953432786,\n",
       "  159.9560635687452,\n",
       "  338.9317282597729,\n",
       "  325.697324912619,\n",
       "  162.43703416210397,\n",
       "  279.13660494446447,\n",
       "  46.94615778830208,\n",
       "  252.7380125948244,\n",
       "  225.52576029992824,\n",
       "  318.2485869811807,\n",
       "  342.51166433775563,\n",
       "  233.1072975993991,\n",
       "  324.5924769275723,\n",
       "  245.7015517118773,\n",
       "  304.8113748270016,\n",
       "  104.3804671981306,\n",
       "  347.1142743948807,\n",
       "  148.59934411122492,\n",
       "  312.3171858191445,\n",
       "  150.7959602690577,\n",
       "  117.34550495989212,\n",
       "  87.800558648329,\n",
       "  54.52469663472728,\n",
       "  98.8803275953836,\n",
       "  8.909457555262835,\n",
       "  129.97053590477043,\n",
       "  88.59230734672771,\n",
       "  230.0469767002615,\n",
       "  128.24465638453492,\n",
       "  221.74398017914055,\n",
       "  265.0941321618901,\n",
       "  242.89560071780932,\n",
       "  304.80945895893944,\n",
       "  345.55995044357564,\n",
       "  154.7901592730328,\n",
       "  149.53092727250132,\n",
       "  154.6799610009638,\n",
       "  301.92913061990464,\n",
       "  217.42612583115525,\n",
       "  338.03990362965516,\n",
       "  342.6597001502792,\n",
       "  272.48142571155495,\n",
       "  343.5045450317383,\n",
       "  298.87420557021136,\n",
       "  265.3338513111901,\n",
       "  57.811506606742476,\n",
       "  235.34841926986365,\n",
       "  344.61555555496363,\n",
       "  351.4902229168515,\n",
       "  147.84316020783447,\n",
       "  127.38065111490664,\n",
       "  31.269657869450555,\n",
       "  157.81351518838227,\n",
       "  31.151536577944356,\n",
       "  334.4848191949675,\n",
       "  306.2051329837507,\n",
       "  16.811310236239756,\n",
       "  1.4781120602157622,\n",
       "  34.90855384789615,\n",
       "  283.4701687275408,\n",
       "  256.6081958540396,\n",
       "  240.1791115414902,\n",
       "  223.84315685827394,\n",
       "  6.068495865283038,\n",
       "  191.6934837557806,\n",
       "  72.45007048875135,\n",
       "  227.48092927060105,\n",
       "  110.93464159359397,\n",
       "  28.918956059036873,\n",
       "  25.55723427975227,\n",
       "  154.89765279019045,\n",
       "  205.5010936535549,\n",
       "  276.304439684362,\n",
       "  336.2428620760046,\n",
       "  49.16342160799581,\n",
       "  184.59272347198697,\n",
       "  83.65699023739492,\n",
       "  141.44987091827076,\n",
       "  320.7998880324231,\n",
       "  250.5268481340595,\n",
       "  53.221868786398616,\n",
       "  71.22979572182605,\n",
       "  66.17158984894638,\n",
       "  128.65755498024052,\n",
       "  150.88558601134662,\n",
       "  10.421944036580568,\n",
       "  43.14764028895328,\n",
       "  224.95899120260057,\n",
       "  294.52745269184777,\n",
       "  112.71755319339908,\n",
       "  64.83577560202114,\n",
       "  169.45915164779407,\n",
       "  309.1659790078162,\n",
       "  321.0786382977351,\n",
       "  52.48151043131508,\n",
       "  353.860790759353,\n",
       "  65.79357302933202,\n",
       "  310.3357923371534,\n",
       "  33.779940219632415,\n",
       "  128.15160188728265,\n",
       "  196.23021834590813,\n",
       "  252.21142550038394,\n",
       "  51.24470660659834,\n",
       "  232.7411721391297,\n",
       "  136.28607032082272,\n",
       "  118.56022678302222,\n",
       "  357.2370657507682,\n",
       "  155.0335735546737,\n",
       "  333.7259493196859,\n",
       "  51.73500149088395,\n",
       "  162.7037257284363,\n",
       "  211.66546232289647,\n",
       "  72.6310705017567,\n",
       "  38.07287120733634,\n",
       "  40.65539305327484,\n",
       "  34.08477839247926,\n",
       "  130.22881267804527,\n",
       "  315.5110983882584,\n",
       "  99.56399538035603,\n",
       "  81.40614237755223,\n",
       "  291.41539310974736,\n",
       "  193.51743113211913,\n",
       "  246.46388278552075,\n",
       "  262.30658852763537,\n",
       "  145.1602345810968,\n",
       "  314.60724921010683,\n",
       "  327.45539169931817,\n",
       "  119.7852895125557,\n",
       "  17.316554697071233,\n",
       "  94.74694299650201,\n",
       "  216.897619453558,\n",
       "  70.36566750879271,\n",
       "  41.38506557740189,\n",
       "  54.99068970594598,\n",
       "  276.04894962826853,\n",
       "  263.41613909792557,\n",
       "  267.9145290060527,\n",
       "  333.42014638261884,\n",
       "  287.0973133655194,\n",
       "  71.40199162099124,\n",
       "  148.80196850314252,\n",
       "  2.89887272951822,\n",
       "  332.70938494475627,\n",
       "  279.11491226366053,\n",
       "  29.517646045450586,\n",
       "  220.17806368926676,\n",
       "  204.363675911451,\n",
       "  268.0602715825624,\n",
       "  92.14787843239374,\n",
       "  230.73189440985203,\n",
       "  217.23434777963965,\n",
       "  86.59813116570494,\n",
       "  78.08192345945288,\n",
       "  338.109820861094,\n",
       "  201.16065870017354,\n",
       "  195.31088854400275,\n",
       "  77.0823730857457,\n",
       "  163.38132147523658,\n",
       "  57.19710377014315,\n",
       "  182.6098375936622,\n",
       "  349.53596919152744,\n",
       "  177.82020477686012,\n",
       "  314.9248871574583,\n",
       "  345.7762206996813,\n",
       "  271.65976078459164,\n",
       "  34.08782807194367,\n",
       "  278.6572417779455,\n",
       "  151.03003085191406,\n",
       "  211.64577771770848,\n",
       "  91.30029293753017,\n",
       "  212.09237646677894,\n",
       "  224.55581879627306,\n",
       "  159.51772934857047,\n",
       "  310.7254034028839,\n",
       "  231.05744854645152,\n",
       "  313.47293578898075,\n",
       "  101.14606526761692,\n",
       "  186.58522625666308,\n",
       "  104.35604244165864,\n",
       "  142.5740927348982,\n",
       "  303.0576417953308,\n",
       "  254.00663827088425,\n",
       "  315.5310118047836,\n",
       "  283.5569052998108,\n",
       "  196.44404424806456,\n",
       "  117.80641978546292,\n",
       "  18.343422412363875,\n",
       "  11.597117356868988,\n",
       "  26.844670296786312,\n",
       "  341.81826694831057,\n",
       "  109.63307391516717,\n",
       "  32.23596571246728,\n",
       "  101.01881201319041,\n",
       "  158.5312041456105,\n",
       "  163.35793490751846,\n",
       "  295.7292927782032,\n",
       "  255.24282737857567,\n",
       "  166.3369219140195,\n",
       "  80.59302884742972,\n",
       "  207.20629136098358,\n",
       "  193.89997636715322,\n",
       "  356.1202190443405,\n",
       "  99.0146910767361,\n",
       "  19.411674243837624,\n",
       "  147.1079586455743,\n",
       "  42.527500093451145,\n",
       "  123.65489220569141,\n",
       "  172.74148101571373,\n",
       "  98.9124909561852,\n",
       "  28.328050780729683,\n",
       "  272.99682495613496,\n",
       "  330.0040699579193,\n",
       "  78.21385539346085,\n",
       "  269.2541954796698,\n",
       "  303.12570804550455,\n",
       "  282.984986239849,\n",
       "  133.75858613921616,\n",
       "  169.56129029664245,\n",
       "  184.5169356929565,\n",
       "  10.847399935075247,\n",
       "  120.33163634426502,\n",
       "  110.86768524916033,\n",
       "  148.65673136063137,\n",
       "  50.40100407427793,\n",
       "  310.34471597930406,\n",
       "  123.35292954248514,\n",
       "  51.317284196718894,\n",
       "  97.35646458022957,\n",
       "  231.9221778161318,\n",
       "  202.2927488947248,\n",
       "  256.426383048523,\n",
       "  130.9632082779834,\n",
       "  39.77438744280241,\n",
       "  93.61944951926215,\n",
       "  49.84787827981737,\n",
       "  1.516249168498469,\n",
       "  128.34701359943674,\n",
       "  133.88755377112435,\n",
       "  112.91302637725568,\n",
       "  318.2373308294285,\n",
       "  220.14820210221546,\n",
       "  110.20265705043288],\n",
       " [311,\n",
       "  89,\n",
       "  177,\n",
       "  301,\n",
       "  323,\n",
       "  2,\n",
       "  292,\n",
       "  282,\n",
       "  40,\n",
       "  260,\n",
       "  265,\n",
       "  204,\n",
       "  87,\n",
       "  104,\n",
       "  283,\n",
       "  216,\n",
       "  39,\n",
       "  91,\n",
       "  341,\n",
       "  93,\n",
       "  320,\n",
       "  35,\n",
       "  231,\n",
       "  151,\n",
       "  285,\n",
       "  115,\n",
       "  268,\n",
       "  344,\n",
       "  273,\n",
       "  120,\n",
       "  10,\n",
       "  126,\n",
       "  122,\n",
       "  0,\n",
       "  270,\n",
       "  0,\n",
       "  295,\n",
       "  55,\n",
       "  35,\n",
       "  308,\n",
       "  54,\n",
       "  307,\n",
       "  95,\n",
       "  68,\n",
       "  39,\n",
       "  340,\n",
       "  350,\n",
       "  60,\n",
       "  284,\n",
       "  283,\n",
       "  42,\n",
       "  312,\n",
       "  312,\n",
       "  219,\n",
       "  26,\n",
       "  136,\n",
       "  351,\n",
       "  184,\n",
       "  312,\n",
       "  271,\n",
       "  130,\n",
       "  327,\n",
       "  128,\n",
       "  3,\n",
       "  91,\n",
       "  129,\n",
       "  80,\n",
       "  78,\n",
       "  248,\n",
       "  8,\n",
       "  280,\n",
       "  95,\n",
       "  237,\n",
       "  302,\n",
       "  54,\n",
       "  304,\n",
       "  308,\n",
       "  238,\n",
       "  220,\n",
       "  91,\n",
       "  176,\n",
       "  24,\n",
       "  158,\n",
       "  128,\n",
       "  138,\n",
       "  91,\n",
       "  5,\n",
       "  40,\n",
       "  17,\n",
       "  133,\n",
       "  70,\n",
       "  330,\n",
       "  340,\n",
       "  79,\n",
       "  142,\n",
       "  256,\n",
       "  130,\n",
       "  26,\n",
       "  39,\n",
       "  74,\n",
       "  314,\n",
       "  344,\n",
       "  119,\n",
       "  173,\n",
       "  138,\n",
       "  238,\n",
       "  131,\n",
       "  243,\n",
       "  327,\n",
       "  133,\n",
       "  150,\n",
       "  301,\n",
       "  335,\n",
       "  250,\n",
       "  168,\n",
       "  258,\n",
       "  212,\n",
       "  164,\n",
       "  221,\n",
       "  221,\n",
       "  19,\n",
       "  253,\n",
       "  199,\n",
       "  158,\n",
       "  221,\n",
       "  131,\n",
       "  138,\n",
       "  8,\n",
       "  167,\n",
       "  316,\n",
       "  326,\n",
       "  137,\n",
       "  230,\n",
       "  40,\n",
       "  249,\n",
       "  227,\n",
       "  311,\n",
       "  0,\n",
       "  216,\n",
       "  325,\n",
       "  261,\n",
       "  314,\n",
       "  105,\n",
       "  354,\n",
       "  145,\n",
       "  278,\n",
       "  134,\n",
       "  100,\n",
       "  85,\n",
       "  55,\n",
       "  85,\n",
       "  17,\n",
       "  125,\n",
       "  92,\n",
       "  235,\n",
       "  133,\n",
       "  342,\n",
       "  134,\n",
       "  79,\n",
       "  305,\n",
       "  30,\n",
       "  155,\n",
       "  51,\n",
       "  165,\n",
       "  304,\n",
       "  224,\n",
       "  342,\n",
       "  15,\n",
       "  283,\n",
       "  342,\n",
       "  286,\n",
       "  255,\n",
       "  92,\n",
       "  210,\n",
       "  350,\n",
       "  340,\n",
       "  151,\n",
       "  117,\n",
       "  351,\n",
       "  171,\n",
       "  38,\n",
       "  313,\n",
       "  311,\n",
       "  14,\n",
       "  16,\n",
       "  46,\n",
       "  284,\n",
       "  150,\n",
       "  288,\n",
       "  217,\n",
       "  3,\n",
       "  196,\n",
       "  105,\n",
       "  209,\n",
       "  113,\n",
       "  342,\n",
       "  28,\n",
       "  171,\n",
       "  206,\n",
       "  295,\n",
       "  0,\n",
       "  45,\n",
       "  151,\n",
       "  88,\n",
       "  127,\n",
       "  334,\n",
       "  338,\n",
       "  84,\n",
       "  67,\n",
       "  83,\n",
       "  153,\n",
       "  152,\n",
       "  1,\n",
       "  40,\n",
       "  200,\n",
       "  150,\n",
       "  106,\n",
       "  78,\n",
       "  154,\n",
       "  316,\n",
       "  311,\n",
       "  343,\n",
       "  0,\n",
       "  123,\n",
       "  310,\n",
       "  45,\n",
       "  142,\n",
       "  227,\n",
       "  265,\n",
       "  54,\n",
       "  220,\n",
       "  29,\n",
       "  133,\n",
       "  6,\n",
       "  165,\n",
       "  357,\n",
       "  47,\n",
       "  170,\n",
       "  150,\n",
       "  103,\n",
       "  46,\n",
       "  62,\n",
       "  354,\n",
       "  137,\n",
       "  304,\n",
       "  124,\n",
       "  64,\n",
       "  283,\n",
       "  185,\n",
       "  240,\n",
       "  280,\n",
       "  135,\n",
       "  334,\n",
       "  320,\n",
       "  90,\n",
       "  15,\n",
       "  94,\n",
       "  217,\n",
       "  123,\n",
       "  46,\n",
       "  45,\n",
       "  233,\n",
       "  265,\n",
       "  255,\n",
       "  341,\n",
       "  280,\n",
       "  82,\n",
       "  63,\n",
       "  301,\n",
       "  352,\n",
       "  289,\n",
       "  46,\n",
       "  232,\n",
       "  226,\n",
       "  280,\n",
       "  93,\n",
       "  221,\n",
       "  226,\n",
       "  88,\n",
       "  102,\n",
       "  334,\n",
       "  196,\n",
       "  170,\n",
       "  87,\n",
       "  202,\n",
       "  45,\n",
       "  223,\n",
       "  346,\n",
       "  183,\n",
       "  318,\n",
       "  333,\n",
       "  272,\n",
       "  41,\n",
       "  250,\n",
       "  150,\n",
       "  218,\n",
       "  110,\n",
       "  228,\n",
       "  249,\n",
       "  188,\n",
       "  316,\n",
       "  231,\n",
       "  309,\n",
       "  90,\n",
       "  180,\n",
       "  90,\n",
       "  139,\n",
       "  334,\n",
       "  276,\n",
       "  350,\n",
       "  315,\n",
       "  215,\n",
       "  89,\n",
       "  4,\n",
       "  345,\n",
       "  41,\n",
       "  338,\n",
       "  17,\n",
       "  35,\n",
       "  120,\n",
       "  143,\n",
       "  280,\n",
       "  235,\n",
       "  322,\n",
       "  270,\n",
       "  90,\n",
       "  270,\n",
       "  183,\n",
       "  355,\n",
       "  75,\n",
       "  6,\n",
       "  132,\n",
       "  50,\n",
       "  129,\n",
       "  169,\n",
       "  99,\n",
       "  25,\n",
       "  255,\n",
       "  335,\n",
       "  96,\n",
       "  291,\n",
       "  151,\n",
       "  224,\n",
       "  141,\n",
       "  171,\n",
       "  184,\n",
       "  14,\n",
       "  111,\n",
       "  134,\n",
       "  158,\n",
       "  67,\n",
       "  355,\n",
       "  137,\n",
       "  46,\n",
       "  103,\n",
       "  247,\n",
       "  199,\n",
       "  250,\n",
       "  112,\n",
       "  53,\n",
       "  88,\n",
       "  43,\n",
       "  10,\n",
       "  138,\n",
       "  129,\n",
       "  113,\n",
       "  326,\n",
       "  216,\n",
       "  88])"
      ]
     },
     "execution_count": 4,
     "metadata": {},
     "output_type": "execute_result"
    }
   ],
   "source": [
    "# Run training pipeline\n",
    "model, _, val_loader, device, checkpoint_dir = run_training_pipeline()\n",
    "    \n",
    "# Evaluate model\n",
    "evaluator = ModelEvaluator(model, val_loader, device, checkpoint_dir)\n",
    "evaluator.evaluate()"
   ]
  },
  {
   "cell_type": "code",
   "execution_count": 5,
   "id": "9b80843c",
   "metadata": {
    "execution": {
     "iopub.execute_input": "2025-05-04T22:17:21.069134Z",
     "iopub.status.busy": "2025-05-04T22:17:21.068851Z",
     "iopub.status.idle": "2025-05-04T22:17:21.087270Z",
     "shell.execute_reply": "2025-05-04T22:17:21.086702Z"
    },
    "papermill": {
     "duration": 1.30911,
     "end_time": "2025-05-04T22:17:21.088385",
     "exception": false,
     "start_time": "2025-05-04T22:17:19.779275",
     "status": "completed"
    },
    "tags": []
   },
   "outputs": [],
   "source": [
    "import torch\n",
    "import os\n",
    "import pandas as pd\n",
    "import numpy as np\n",
    "import math\n",
    "from pathlib import Path\n",
    "from torch.utils.data import DataLoader, Dataset\n",
    "from PIL import Image\n",
    "from torchvision import transforms\n",
    "from tqdm import tqdm\n",
    "\n",
    "def generate_submission(\n",
    "    model_path, \n",
    "    val_csv_path, \n",
    "    val_img_dir, \n",
    "    test_img_dir=None,  # Optional test image directory\n",
    "    output_path='submission.csv',\n",
    "    batch_size=32,\n",
    "    rollno='YourRollNo',\n",
    "    version='1'\n",
    "):\n",
    "\n",
    "    device = torch.device(\"cuda\" if torch.cuda.is_available() else \"cpu\")\n",
    "    print(f\"Using device: {device}\")\n",
    "    \n",
    "    # Format output path with roll number and version if not already formatted\n",
    "    if not output_path.startswith(rollno):\n",
    "        output_path = f\"{rollno}_{version}.csv\"\n",
    "    \n",
    "    # Load the best model\n",
    "    print(f\"Loading model from {model_path}\")\n",
    "    checkpoint = torch.load(model_path, map_location=device)\n",
    "    model = TerrainAngleNet(dropout_rate=0.4).to(device)  # Using default dropout rate\n",
    "    model.load_state_dict(checkpoint['model_state_dict'])\n",
    "    model.eval()\n",
    "    print(f\"Model loaded successfully. Best validation error: {checkpoint.get('best_val_error', 'N/A')}°\")\n",
    "    \n",
    "    # Define validation transform\n",
    "    val_transform = transforms.Compose([\n",
    "        transforms.Resize(256),\n",
    "        transforms.CenterCrop(224),\n",
    "        transforms.ToTensor(),\n",
    "        transforms.Normalize(mean=[0.485, 0.456, 0.406], std=[0.229, 0.224, 0.225])\n",
    "    ])\n",
    "    \n",
    "    # Create validation dataset and dataloader\n",
    "    val_dataset = GeoOrientationDataset(\n",
    "        csv_file=val_csv_path,\n",
    "        img_dir=val_img_dir,\n",
    "        transform=val_transform\n",
    "    )\n",
    "    \n",
    "    val_loader = DataLoader(\n",
    "        val_dataset,\n",
    "        batch_size=batch_size,\n",
    "        shuffle=False,\n",
    "        num_workers=4,\n",
    "        pin_memory=True\n",
    "    )\n",
    "    \n",
    "    # Generate predictions for validation set\n",
    "    print(\"Generating predictions for validation set...\")\n",
    "    val_predictions, val_true_angles = predict_angles(model, val_loader, device)\n",
    "    \n",
    "    # Calculate Mean Absolute Angular Error for validation set\n",
    "    val_maae = calculate_maae(val_predictions, val_true_angles)\n",
    "    print(f\"Validation Mean Absolute Angular Error (MAAE): {val_maae:.2f}°\")\n",
    "    \n",
    "    # Create submission dataframe for validation set\n",
    "    val_df = pd.DataFrame({\n",
    "        'id': range(len(val_predictions)),\n",
    "        'angle': val_predictions\n",
    "    })\n",
    "    \n",
    "    # Use test directory if provided\n",
    "    test_predictions = []\n",
    "    if test_img_dir:\n",
    "        print(f\"Generating predictions for test images in {test_img_dir}...\")\n",
    "        # Create image-only dataset from test directory\n",
    "        test_dataset = ImageFolderDataset(\n",
    "            image_dir=test_img_dir,\n",
    "            transform=val_transform\n",
    "        )\n",
    "        \n",
    "        test_loader = DataLoader(\n",
    "            test_dataset,\n",
    "            batch_size=batch_size,\n",
    "            shuffle=False,\n",
    "            num_workers=4,\n",
    "            pin_memory=True\n",
    "        )\n",
    "        \n",
    "        # Generate predictions for test set\n",
    "        test_predictions, _ = predict_angles(model, test_loader, device, is_test=True)\n",
    "        print(f\"Generated {len(test_predictions)} predictions for test images\")\n",
    "    else:\n",
    "        print(\"No test directory provided. Creating dummy test predictions...\")\n",
    "        # Calculate the number of test samples needed\n",
    "        total_required = 738  # Total required samples\n",
    "        num_val_samples = len(val_predictions)\n",
    "        num_test_samples = total_required - num_val_samples\n",
    "        \n",
    "        print(f\"Creating {num_test_samples} dummy test predictions to meet requirement of 738 total samples\")\n",
    "        # Generate random angles for test set - replace this with actual logic if needed\n",
    "        test_predictions = np.random.uniform(0, 360, num_test_samples).tolist()\n",
    "    \n",
    "    # Create final submission dataframe\n",
    "    # Combine validation and test predictions with IDs as specified in the requirements\n",
    "    test_df = pd.DataFrame({\n",
    "        'id': range(len(val_predictions), len(val_predictions) + len(test_predictions)),\n",
    "        'angle': test_predictions\n",
    "    })\n",
    "    \n",
    "    # Concatenate validation and test dataframes\n",
    "    submission_df = pd.concat([val_df, test_df], ignore_index=True)\n",
    "    \n",
    "    # Ensure angles are between 0 and 360 degrees\n",
    "    submission_df['angle'] = submission_df['angle'].apply(lambda x: x % 360)\n",
    "    \n",
    "    # Ensure we have exactly 738 samples\n",
    "    if len(submission_df) != 738:\n",
    "        print(f\"Warning: Submission has {len(submission_df)} samples, but 738 are required.\")\n",
    "        if len(submission_df) < 738:\n",
    "            # Add missing samples with random angles\n",
    "            missing = 738 - len(submission_df)\n",
    "            print(f\"Adding {missing} random predictions to meet the requirement.\")\n",
    "            missing_df = pd.DataFrame({\n",
    "                'id': range(len(submission_df), 738),\n",
    "                'angle': np.random.uniform(0, 360, missing).tolist()\n",
    "            })\n",
    "            submission_df = pd.concat([submission_df, missing_df], ignore_index=True)\n",
    "        else:\n",
    "            # Truncate to 738 samples\n",
    "            print(f\"Truncating to 738 samples.\")\n",
    "            submission_df = submission_df.iloc[:738]\n",
    "    \n",
    "    # Save submission CSV\n",
    "    submission_df.to_csv(output_path, index=False)\n",
    "    print(f\"Submission saved to {output_path}\")\n",
    "    print(f\"Total rows in submission: {len(submission_df) + 1} (1 header + {len(submission_df)} samples)\")\n",
    "    \n",
    "    return submission_df, val_maae\n",
    "\n",
    "def predict_angles(model, dataloader, device, is_test=False):\n",
    "\n",
    "    model.eval()\n",
    "    predicted_angles = []\n",
    "    true_angles = []\n",
    "    \n",
    "    with torch.no_grad():\n",
    "        for batch in tqdm(dataloader):\n",
    "            if is_test:\n",
    "                images = batch.to(device)\n",
    "            else:\n",
    "                images, angle_vectors, angle_degrees = batch\n",
    "                images = images.to(device)\n",
    "                true_angles.extend(angle_degrees.numpy())\n",
    "            \n",
    "            # Forward pass\n",
    "            outputs = model(images)\n",
    "            \n",
    "            # Convert output vectors to angles in degrees\n",
    "            for output in outputs:\n",
    "                angle_rad = torch.atan2(output[1], output[0])\n",
    "                angle_deg = angle_rad.item() * 180 / math.pi\n",
    "                # Normalize to 0-360 range\n",
    "                if angle_deg < 0:\n",
    "                    angle_deg += 360\n",
    "                predicted_angles.append(angle_deg)\n",
    "    \n",
    "    return predicted_angles, true_angles\n",
    "\n",
    "def calculate_maae(predicted_angles, true_angles):\n",
    "\n",
    "    angular_diffs = []\n",
    "    for pred, true in zip(predicted_angles, true_angles):\n",
    "        # Calculate shortest angular distance\n",
    "        diff = abs(pred - true)\n",
    "        if diff > 180:\n",
    "            diff = 360 - diff\n",
    "        angular_diffs.append(diff)\n",
    "    \n",
    "    return np.mean(angular_diffs)\n",
    "\n",
    "# Image-only dataset class for test images without a CSV file\n",
    "class ImageFolderDataset(Dataset):\n",
    "    def __init__(self, image_dir, transform=None):\n",
    "\n",
    "        self.image_dir = image_dir\n",
    "        self.transform = transform\n",
    "        \n",
    "        # Get all image files in the directory\n",
    "        self.image_files = []\n",
    "        valid_extensions = ['.jpg', '.jpeg', '.png', '.JPG', '.JPEG', '.PNG']\n",
    "        \n",
    "        for file in os.listdir(image_dir):\n",
    "            if any(file.endswith(ext) for ext in valid_extensions):\n",
    "                self.image_files.append(file)\n",
    "        \n",
    "        # Sort files to ensure consistent ordering\n",
    "        self.image_files.sort()\n",
    "        print(self.image_files)\n",
    "        print(f\"Found {len(self.image_files)} image files in {image_dir}\")\n",
    "        \n",
    "    def __len__(self):\n",
    "        return len(self.image_files)\n",
    "        \n",
    "    def __getitem__(self, idx):\n",
    "        img_path = os.path.join(self.image_dir, self.image_files[idx])\n",
    "        image = Image.open(img_path).convert('RGB')\n",
    "        \n",
    "        if self.transform:\n",
    "            image = self.transform(image)\n",
    "            \n",
    "        return image"
   ]
  },
  {
   "cell_type": "code",
   "execution_count": 6,
   "id": "98193e89",
   "metadata": {
    "execution": {
     "iopub.execute_input": "2025-05-04T22:17:23.851397Z",
     "iopub.status.busy": "2025-05-04T22:17:23.851113Z",
     "iopub.status.idle": "2025-05-04T22:17:38.370410Z",
     "shell.execute_reply": "2025-05-04T22:17:38.369273Z"
    },
    "papermill": {
     "duration": 15.934736,
     "end_time": "2025-05-04T22:17:38.371733",
     "exception": false,
     "start_time": "2025-05-04T22:17:22.436997",
     "status": "completed"
    },
    "tags": []
   },
   "outputs": [
    {
     "name": "stdout",
     "output_type": "stream",
     "text": [
      "Using device: cuda\n",
      "Loading model from /kaggle/working/best_model.pth\n"
     ]
    },
    {
     "name": "stderr",
     "output_type": "stream",
     "text": [
      "/tmp/ipykernel_19/2035388003.py:32: FutureWarning: You are using `torch.load` with `weights_only=False` (the current default value), which uses the default pickle module implicitly. It is possible to construct malicious pickle data which will execute arbitrary code during unpickling (See https://github.com/pytorch/pytorch/blob/main/SECURITY.md#untrusted-models for more details). In a future release, the default value for `weights_only` will be flipped to `True`. This limits the functions that could be executed during unpickling. Arbitrary objects will no longer be allowed to be loaded via this mode unless they are explicitly allowlisted by the user via `torch.serialization.add_safe_globals`. We recommend you start setting `weights_only=True` for any use case where you don't have full control of the loaded file. Please open an issue on GitHub for any issues related to this experimental feature.\n",
      "  checkpoint = torch.load(model_path, map_location=device)\n",
      "Using cache found in /root/.cache/torch/hub/facebookresearch_dinov2_main\n"
     ]
    },
    {
     "name": "stdout",
     "output_type": "stream",
     "text": [
      "Model loaded successfully. Best validation error: 22.12710150082906°\n",
      "Removed 0 outliers from the dataset.\n",
      "Generating predictions for validation set...\n"
     ]
    },
    {
     "name": "stderr",
     "output_type": "stream",
     "text": [
      "100%|██████████| 12/12 [00:05<00:00,  2.08it/s]\n"
     ]
    },
    {
     "name": "stdout",
     "output_type": "stream",
     "text": [
      "Validation Mean Absolute Angular Error (MAAE): 22.66°\n",
      "Generating predictions for test images in /kaggle/input/images-test/images_test...\n",
      "['img_0000.jpg', 'img_0001.jpg', 'img_0002.jpg', 'img_0003.jpg', 'img_0004.jpg', 'img_0005.jpg', 'img_0006.jpeg', 'img_0007.jpeg', 'img_0008.jpeg', 'img_0009.png', 'img_0010.png', 'img_0011.png', 'img_0012.jpeg', 'img_0013.jpeg', 'img_0014.jpeg', 'img_0015.jpg', 'img_0016.jpg', 'img_0017.jpg', 'img_0018.jpeg', 'img_0019.jpeg', 'img_0020.jpeg', 'img_0021.jpg', 'img_0022.jpg', 'img_0023.jpg', 'img_0024.jpeg', 'img_0025.jpeg', 'img_0026.jpeg', 'img_0027.jpg', 'img_0028.jpg', 'img_0029.jpg', 'img_0030.jpg', 'img_0031.jpg', 'img_0032.jpg', 'img_0033.jpg', 'img_0034.jpg', 'img_0035.jpg', 'img_0036.jpg', 'img_0037.jpg', 'img_0038.jpg', 'img_0039.jpeg', 'img_0040.jpeg', 'img_0041.jpeg', 'img_0042.jpg', 'img_0043.jpg', 'img_0044.jpg', 'img_0045.jpeg', 'img_0046.jpeg', 'img_0047.jpeg', 'img_0048.jpg', 'img_0049.jpg', 'img_0050.jpg', 'img_0051.jpeg', 'img_0052.jpeg', 'img_0053.jpeg', 'img_0054.jpg', 'img_0055.jpg', 'img_0056.jpg', 'img_0057.jpg', 'img_0058.jpg', 'img_0059.jpg', 'img_0060.JPEG', 'img_0061.JPEG', 'img_0062.JPEG', 'img_0063.png', 'img_0064.png', 'img_0065.png', 'img_0066.png', 'img_0067.png', 'img_0068.png', 'img_0069.jpg', 'img_0070.jpg', 'img_0071.jpg', 'img_0072.jpg', 'img_0073.jpg', 'img_0074.jpg', 'img_0075.jpeg', 'img_0076.jpeg', 'img_0077.jpeg', 'img_0078.jpg', 'img_0079.jpg', 'img_0080.jpg', 'img_0081.jpg', 'img_0082.jpg', 'img_0083.jpg', 'img_0084.jpg', 'img_0085.jpg', 'img_0086.jpg', 'img_0087.jpeg', 'img_0088.jpeg', 'img_0089.jpeg', 'img_0090.png', 'img_0091.png', 'img_0092.png', 'img_0093.jpg', 'img_0094.jpg', 'img_0095.jpg', 'img_0096.jpg', 'img_0097.jpg', 'img_0098.jpg', 'img_0099.jpg', 'img_0100.jpg', 'img_0101.jpg', 'img_0102.jpeg', 'img_0103.jpeg', 'img_0104.jpeg', 'img_0105.jpeg', 'img_0106.jpeg', 'img_0107.jpeg', 'img_0108.jpg', 'img_0109.jpg', 'img_0110.jpg', 'img_0111.jpg', 'img_0112.jpg', 'img_0113.jpg', 'img_0114.png', 'img_0115.png', 'img_0116.png', 'img_0117.jpg', 'img_0118.jpg', 'img_0119.jpg', 'img_0120.jpeg', 'img_0121.jpeg', 'img_0122.jpeg', 'img_0123.jpeg', 'img_0124.jpeg', 'img_0125.jpeg', 'img_0126.jpg', 'img_0127.jpg', 'img_0128.jpg', 'img_0129.jpeg', 'img_0130.jpeg', 'img_0131.jpeg', 'img_0132.jpg', 'img_0133.jpg', 'img_0134.jpg', 'img_0135.jpg', 'img_0136.jpg', 'img_0137.jpg', 'img_0138.jpg', 'img_0139.jpg', 'img_0140.jpg', 'img_0141.jpg', 'img_0142.jpg', 'img_0143.jpg', 'img_0144.jpg', 'img_0145.jpg', 'img_0146.jpg', 'img_0147.jpg', 'img_0148.jpg', 'img_0149.jpg', 'img_0150.jpg', 'img_0151.jpg', 'img_0152.jpg', 'img_0153.jpg', 'img_0154.jpg', 'img_0155.jpg', 'img_0156.jpg', 'img_0157.jpg', 'img_0158.jpg', 'img_0159.jpg', 'img_0160.jpg', 'img_0161.jpg', 'img_0162.jpg', 'img_0163.jpg', 'img_0164.jpg', 'img_0165.jpg', 'img_0166.jpg', 'img_0167.jpg', 'img_0168.png', 'img_0169.png', 'img_0170.png', 'img_0171.jpg', 'img_0172.jpg', 'img_0173.jpg', 'img_0174.jpg', 'img_0175.jpg', 'img_0176.jpg', 'img_0177.jpg', 'img_0178.jpg', 'img_0179.jpg', 'img_0180.jpeg', 'img_0181.jpeg', 'img_0182.jpeg', 'img_0183.jpg', 'img_0184.jpg', 'img_0185.jpg', 'img_0186.jpeg', 'img_0187.jpeg', 'img_0188.jpeg', 'img_0189.jpg', 'img_0190.jpg', 'img_0191.jpg', 'img_0192.jpg', 'img_0193.jpg', 'img_0194.jpg', 'img_0195.jpeg', 'img_0196.jpeg', 'img_0197.jpeg', 'img_0198.jpg', 'img_0199.jpg', 'img_0200.jpg', 'img_0201.jpeg', 'img_0202.jpeg', 'img_0203.jpeg', 'img_0204.jpg', 'img_0205.jpg', 'img_0206.jpg', 'img_0207.jpeg', 'img_0208.jpeg', 'img_0209.jpeg', 'img_0210.jpg', 'img_0211.jpg', 'img_0212.jpg', 'img_0213.jpg', 'img_0214.jpg', 'img_0215.jpg', 'img_0216.jpg', 'img_0217.jpg', 'img_0218.jpg', 'img_0219.jpeg', 'img_0220.jpeg', 'img_0221.jpeg', 'img_0222.jpg', 'img_0223.jpg', 'img_0224.jpg', 'img_0225.jpg', 'img_0226.jpg', 'img_0227.jpg', 'img_0228.jpg', 'img_0229.jpg', 'img_0230.jpg', 'img_0231.jpg', 'img_0232.jpg', 'img_0233.jpg', 'img_0234.jpg', 'img_0235.jpg', 'img_0236.jpg', 'img_0237.jpeg', 'img_0238.jpeg', 'img_0239.jpeg', 'img_0240.jpg', 'img_0241.jpg', 'img_0242.jpg', 'img_0243.png', 'img_0244.png', 'img_0245.png', 'img_0246.png', 'img_0247.png', 'img_0248.png', 'img_0249.jpg', 'img_0250.jpg', 'img_0251.jpg', 'img_0252.jpg', 'img_0253.jpg', 'img_0254.jpg', 'img_0255.jpeg', 'img_0256.jpeg', 'img_0257.jpeg', 'img_0258.jpg', 'img_0259.jpg', 'img_0260.jpg', 'img_0261.jpeg', 'img_0262.jpeg', 'img_0263.jpeg', 'img_0264.png', 'img_0265.png', 'img_0266.png', 'img_0267.jpg', 'img_0268.jpg', 'img_0269.jpg', 'img_0270.jpg', 'img_0271.jpg', 'img_0272.jpg', 'img_0273.jpeg', 'img_0274.jpeg', 'img_0275.jpeg', 'img_0276.jpg', 'img_0277.jpg', 'img_0278.jpg', 'img_0279.jpg', 'img_0280.jpeg', 'img_0281.jpeg', 'img_0282.jpg', 'img_0283.jpg', 'img_0284.jpg', 'img_0285.jpg', 'img_0286.jpg', 'img_0287.jpg', 'img_0288.jpg', 'img_0289.jpg', 'img_0290.jpg', 'img_0291.jpg', 'img_0292.jpg', 'img_0293.jpg', 'img_0294.jpeg', 'img_0295.jpeg', 'img_0296.jpeg', 'img_0297.jpg', 'img_0298.jpg', 'img_0299.jpg', 'img_0300.jpeg', 'img_0301.jpeg', 'img_0302.jpeg', 'img_0303.jpg', 'img_0304.jpg', 'img_0305.jpg', 'img_0306.jpg', 'img_0307.jpg', 'img_0308.jpg', 'img_0309.jpg', 'img_0310.jpg', 'img_0311.jpg', 'img_0312.jpg', 'img_0313.jpg', 'img_0314.jpg', 'img_0315.jpg', 'img_0316.jpg', 'img_0317.jpg', 'img_0318.jpeg', 'img_0319.jpeg', 'img_0320.jpeg', 'img_0321.jpg', 'img_0322.jpg', 'img_0323.jpg', 'img_0324.jpg', 'img_0325.jpg', 'img_0326.jpg', 'img_0327.jpg', 'img_0328.jpg', 'img_0329.jpg', 'img_0330.jpg', 'img_0331.jpg', 'img_0332.jpg', 'img_0333.jpeg', 'img_0334.jpeg', 'img_0335.jpeg', 'img_0336.jpeg', 'img_0337.jpeg', 'img_0338.jpeg', 'img_0339.jpg', 'img_0340.jpg', 'img_0341.jpg', 'img_0342.jpeg', 'img_0343.jpeg', 'img_0344.jpeg', 'img_0345.jpg', 'img_0346.jpg', 'img_0347.jpg', 'img_0348.jpg', 'img_0349.jpg', 'img_0350.jpg', 'img_0351.jpg', 'img_0352.jpg', 'img_0353.jpg', 'img_0354.jpeg', 'img_0355.jpeg', 'img_0356.jpeg', 'img_0357.jpg', 'img_0358.jpg', 'img_0359.jpg', 'img_0360.jpg', 'img_0361.jpg', 'img_0362.jpg', 'img_0363.jpeg', 'img_0364.jpeg', 'img_0365.jpeg', 'img_0366.jpg', 'img_0367.jpg', 'img_0368.jpg']\n",
      "Found 369 image files in /kaggle/input/images-test/images_test\n"
     ]
    },
    {
     "name": "stderr",
     "output_type": "stream",
     "text": [
      "100%|██████████| 12/12 [00:05<00:00,  2.00it/s]"
     ]
    },
    {
     "name": "stdout",
     "output_type": "stream",
     "text": [
      "Generated 369 predictions for test images\n",
      "Submission saved to 2022101113_2.csv\n",
      "Total rows in submission: 739 (1 header + 738 samples)\n",
      "Final MAAE on validation set: 22.66°\n"
     ]
    },
    {
     "name": "stderr",
     "output_type": "stream",
     "text": [
      "\n"
     ]
    }
   ],
   "source": [
    "\n",
    "\n",
    "model_path = \"/kaggle/working/best_model.pth\"\n",
    "val_csv_path = \"/kaggle/input/labels/labels_val_updated.csv\"\n",
    "val_img_dir = \"/kaggle/input/images/images_val/images_val\"\n",
    "test_csv_path = \"/path/to/labels_test.csv\"  # If available\n",
    "test_img_dir = \"/kaggle/input/images-test/images_test\"  # If available\n",
    "output_path = \"2022101113_1.csv\"  # Replace with your roll number\n",
    "    \n",
    "\n",
    "submission, val_maae = generate_submission(\n",
    "        model_path=model_path,\n",
    "        val_csv_path=val_csv_path,\n",
    "        val_img_dir=val_img_dir,\n",
    "        test_img_dir=test_img_dir,\n",
    "        rollno=\"2022101113\",  # Replace with your roll number\n",
    "        version=\"2\"  # Version of submission\n",
    "    )\n",
    "    \n",
    "print(f\"Final MAAE on validation set: {val_maae:.2f}°\")"
   ]
  }
 ],
 "metadata": {
  "kaggle": {
   "accelerator": "nvidiaTeslaT4",
   "dataSources": [
    {
     "datasetId": 7127285,
     "sourceId": 11382673,
     "sourceType": "datasetVersion"
    },
    {
     "datasetId": 7127305,
     "sourceId": 11382709,
     "sourceType": "datasetVersion"
    },
    {
     "datasetId": 7319054,
     "sourceId": 11662454,
     "sourceType": "datasetVersion"
    },
    {
     "datasetId": 7328741,
     "sourceId": 11676916,
     "sourceType": "datasetVersion"
    }
   ],
   "dockerImageVersionId": 31011,
   "isGpuEnabled": true,
   "isInternetEnabled": true,
   "language": "python",
   "sourceType": "notebook"
  },
  "kernelspec": {
   "display_name": "Python 3",
   "language": "python",
   "name": "python3"
  },
  "language_info": {
   "codemirror_mode": {
    "name": "ipython",
    "version": 3
   },
   "file_extension": ".py",
   "mimetype": "text/x-python",
   "name": "python",
   "nbconvert_exporter": "python",
   "pygments_lexer": "ipython3",
   "version": "3.11.11"
  },
  "papermill": {
   "default_parameters": {},
   "duration": 6358.229098,
   "end_time": "2025-05-04T22:17:42.605179",
   "environment_variables": {},
   "exception": null,
   "input_path": "__notebook__.ipynb",
   "output_path": "__notebook__.ipynb",
   "parameters": {},
   "start_time": "2025-05-04T20:31:44.376081",
   "version": "2.6.0"
  }
 },
 "nbformat": 4,
 "nbformat_minor": 5
}
